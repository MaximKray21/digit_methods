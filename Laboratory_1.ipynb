{
 "cells": [
  {
   "cell_type": "markdown",
   "id": "240100ae",
   "metadata": {},
   "source": [
    "# Оформление"
   ]
  },
  {
   "cell_type": "code",
   "execution_count": 95,
   "id": "7cfee12c",
   "metadata": {},
   "outputs": [],
   "source": [
    "matrix = np.array([[1, -5, -7, 1], [1, -3, -9, -4], [-2, 4, 2, 1], [-9, 9, 5, 3]])\n",
    "b = [-75, -41, 18, 29]"
   ]
  },
  {
   "cell_type": "code",
   "execution_count": 77,
   "id": "8356eb33",
   "metadata": {
    "scrolled": true
   },
   "outputs": [
    {
     "name": "stdout",
     "output_type": "stream",
     "text": [
      "Введите размерность матрицы: 4\n",
      "Опишите 1-ую строку через пробел: 1 -5 -7 1\n",
      "Опишите 2-ую строку через пробел: 1 -3 -9 -4\n",
      "Опишите 3-ую строку через пробел: -2 4 2 1\n",
      "Опишите 4-ую строку через пробел: -9 9 5 3\n",
      "Опишите столбец B через пробел: -75 -41 18 29\n"
     ]
    }
   ],
   "source": [
    "import numpy as np\n",
    "n = int(input('Введите размерность матрицы: '))\n",
    "\n",
    "matrix = []\n",
    "for i in range(n):\n",
    "    matrix.append(input('Опишите ' + str(i + 1) + '-ую' + ' строку через пробел: ').split())\n",
    "    \n",
    "b = input('Опишите ' + 'столбец B через пробел: ').split()"
   ]
  },
  {
   "cell_type": "markdown",
   "id": "9bbd5720",
   "metadata": {},
   "source": [
    "## Решение задачи методом Гаусса"
   ]
  },
  {
   "cell_type": "code",
   "execution_count": 96,
   "id": "744f6b99",
   "metadata": {},
   "outputs": [],
   "source": [
    "def floating_a(mrx):\n",
    "\n",
    "    m = []\n",
    "    for i in mrx:\n",
    "        temp = []\n",
    "        for j in i:\n",
    "            temp.append(float(j))\n",
    "        m.append(temp)\n",
    "    np.array(m)\n",
    "    \n",
    "    return m\n",
    "# good working"
   ]
  },
  {
   "cell_type": "code",
   "execution_count": 97,
   "id": "6051bfcc",
   "metadata": {},
   "outputs": [],
   "source": [
    "def floating_b(m):\n",
    "    b = []\n",
    "    for i in m:\n",
    "        b.append(float(i))\n",
    "    return b\n",
    "# good working"
   ]
  },
  {
   "cell_type": "code",
   "execution_count": 98,
   "id": "534a13fc",
   "metadata": {},
   "outputs": [],
   "source": [
    "# formula for new a\n",
    "def k_a(a_ij, a_il, a_ll, a_lj):\n",
    "# l - level, phase    \n",
    "    a_p_ij = a_ij - ((a_il / a_ll)*a_lj)\n",
    "    return a_p_ij\n",
    "# В сравнении с ручным счетом работает стабильно"
   ]
  },
  {
   "cell_type": "code",
   "execution_count": 99,
   "id": "e752ad0a",
   "metadata": {},
   "outputs": [],
   "source": [
    "# formula for new b\n",
    "def k_b(b_i, a_il, a_ll, b_l):\n",
    "    b = b_i - (a_il / a_ll)*b_l\n",
    "    return b\n",
    "# В сравнении с ручным счетом работает стабильно"
   ]
  },
  {
   "cell_type": "code",
   "execution_count": 100,
   "id": "2c8d32fd",
   "metadata": {},
   "outputs": [],
   "source": [
    "# copy of matrix\n",
    "def copy_m(matrix):\n",
    "    m_copy = []\n",
    "    for i in matrix:\n",
    "        t = []\n",
    "        for f in i:\n",
    "            t.append(f)\n",
    "        m_copy.append(t)\n",
    "    return m_copy\n",
    "# В сравнении с ручным счетом работает стабильно"
   ]
  },
  {
   "cell_type": "code",
   "execution_count": 101,
   "id": "0b27edb7",
   "metadata": {},
   "outputs": [],
   "source": [
    "# copy of b-vector\n",
    "def copy_b(b):\n",
    "    b_copy = []\n",
    "    for i in b:\n",
    "        b_copy.append(i)\n",
    "    return b_copy\n",
    "# В сравнении с ручным счетом работает стабильно"
   ]
  },
  {
   "cell_type": "code",
   "execution_count": 102,
   "id": "f53e72f9",
   "metadata": {},
   "outputs": [],
   "source": [
    "# straight course\n",
    "def gauss(matrix, b):\n",
    "    \n",
    "    matrix = floating_a(matrix) \n",
    "    b = floating_b(b)\n",
    "    a = []\n",
    "    for k in range(n - 1):\n",
    "        \n",
    "        m_copy = copy_m(matrix)\n",
    "\n",
    "        b_copy = copy_b(b)\n",
    "\n",
    "        for level in range(k + 1, n):\n",
    "            a.append(m_copy[level][k])\n",
    "            \n",
    "            for elem in range(n):\n",
    "                if elem <= k:\n",
    "                    matrix[level][elem] = 0\n",
    "                else:\n",
    "                    matrix[level][elem] = k_a(m_copy[level][elem],\n",
    "                                              a[-1],\n",
    "                                              m_copy[k][k],\n",
    "                                              m_copy[k][elem])\n",
    "            \n",
    "            b[level] = k_b(b_copy[level],\n",
    "                          a[-1],\n",
    "                          m_copy[k][k],\n",
    "                          b_copy[k])\n",
    "        \n",
    "        \n",
    "    return matrix, b\n",
    "# В сравнении с ручным счетом работает стабильно"
   ]
  },
  {
   "cell_type": "code",
   "execution_count": 103,
   "id": "7d08dede",
   "metadata": {
    "scrolled": false
   },
   "outputs": [
    {
     "data": {
      "text/plain": [
       "([[1.0, -5.0, -7.0, 1.0],\n",
       "  [0, 2.0, -2.0, -5.0],\n",
       "  [0, 0, -18.0, -12.0],\n",
       "  [0, 0, 0, -15.333333333333329]],\n",
       " [-75.0, 34.0, -30.0, 122.66666666666666])"
      ]
     },
     "execution_count": 103,
     "metadata": {},
     "output_type": "execute_result"
    }
   ],
   "source": [
    "# checking of working straight course\n",
    "gauss(matrix, b)"
   ]
  },
  {
   "cell_type": "code",
   "execution_count": 104,
   "id": "6b2a5266",
   "metadata": {},
   "outputs": [],
   "source": [
    "# determinate\n",
    "def det(matrix):\n",
    "    det_a = 1.\n",
    "    for i in range(len(matrix)):\n",
    "        det_a *= matrix[i][i]\n",
    "    return det_a"
   ]
  },
  {
   "cell_type": "code",
   "execution_count": 105,
   "id": "166516cd",
   "metadata": {
    "scrolled": true
   },
   "outputs": [
    {
     "data": {
      "text/plain": [
       "551.9999999999998"
      ]
     },
     "execution_count": 105,
     "metadata": {},
     "output_type": "execute_result"
    }
   ],
   "source": [
    "det(gauss(matrix, b)[0])"
   ]
  },
  {
   "cell_type": "code",
   "execution_count": 106,
   "id": "2ac36c9c",
   "metadata": {},
   "outputs": [],
   "source": [
    "# reverse course\n",
    "def solve(matrix, b):\n",
    "    x = b[n - 1] / matrix[n - 1][n - 1]\n",
    "    answer = [0] * n\n",
    "    answer[n - 1] = x\n",
    "    for k in range(n - 2, 0,  -1):\n",
    "        summ = 0\n",
    "        for i in range(len(answer) - 1, 0, -1):\n",
    "            if answer[i] != 0:\n",
    "                summ += answer[i] * matrix[k][i]\n",
    "            else: break\n",
    "        \n",
    "        answer[k] = (b[k] - summ) / matrix[k][k]\n",
    "    \n",
    "    summ = 0\n",
    "    for i in range(len(answer) - 1, 0, -1):\n",
    "        if answer[i] != 0:\n",
    "            summ += answer[i] * matrix[0][i]\n",
    "        else: break\n",
    "            \n",
    "    answer[0] = (b[0] - summ) / matrix[0][0]\n",
    "    return answer"
   ]
  },
  {
   "cell_type": "code",
   "execution_count": 107,
   "id": "bf76713e",
   "metadata": {},
   "outputs": [
    {
     "data": {
      "text/plain": [
       "[2.0, 3.9999999999999982, 7.000000000000002, -8.000000000000002]"
      ]
     },
     "execution_count": 107,
     "metadata": {},
     "output_type": "execute_result"
    }
   ],
   "source": [
    "# values of variables x1, x2, ... xn\n",
    "solve(gauss(matrix, b)[0], gauss(matrix, b)[1])"
   ]
  },
  {
   "cell_type": "code",
   "execution_count": 108,
   "id": "2f9a4d91",
   "metadata": {},
   "outputs": [],
   "source": [
    "# ones_matrix\n",
    "def create_e(n):\n",
    "    E = [[0] * n for i in range(n)]\n",
    "    for i in range(n):\n",
    "        E[i][i] = 1\n",
    "    return np.array(E)"
   ]
  },
  {
   "cell_type": "code",
   "execution_count": 109,
   "id": "11e197cb",
   "metadata": {},
   "outputs": [],
   "source": [
    "# description about getting reverse matrix\n",
    "def reverse_matrix(matrix, e):\n",
    "    r_matrix = []\n",
    "    for i in range(n):\n",
    "        r_matrix.append(solve(gauss(matrix, b)[0], gauss(matrix, e[i])[1]))\n",
    "    return np.array(r_matrix)"
   ]
  },
  {
   "cell_type": "code",
   "execution_count": 110,
   "id": "1c2c32d7",
   "metadata": {},
   "outputs": [
    {
     "data": {
      "text/plain": [
       "array([[ 0.02898551, -0.0326087 ,  0.52536232, -0.22826087],\n",
       "       [ 0.00724638,  0.05434783,  0.56884058, -0.11956522],\n",
       "       [-0.10869565, -0.06521739, -0.2826087 ,  0.04347826],\n",
       "       [ 0.24637681, -0.15217391,  0.34057971, -0.06521739]])"
      ]
     },
     "execution_count": 110,
     "metadata": {},
     "output_type": "execute_result"
    }
   ],
   "source": [
    "# we get reverse matrix\n",
    "reverse_matrix(matrix, create_e(n)).T"
   ]
  }
 ],
 "metadata": {
  "kernelspec": {
   "display_name": "Python 3 (ipykernel)",
   "language": "python",
   "name": "python3"
  },
  "language_info": {
   "codemirror_mode": {
    "name": "ipython",
    "version": 3
   },
   "file_extension": ".py",
   "mimetype": "text/x-python",
   "name": "python",
   "nbconvert_exporter": "python",
   "pygments_lexer": "ipython3",
   "version": "3.9.7"
  }
 },
 "nbformat": 4,
 "nbformat_minor": 5
}
