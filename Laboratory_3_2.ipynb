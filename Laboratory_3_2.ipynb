{
 "cells": [
  {
   "cell_type": "code",
   "execution_count": 2,
   "id": "150afeec",
   "metadata": {},
   "outputs": [],
   "source": [
    "# импорт необходимых библиотек\n",
    "import numpy as np\n",
    "import pandas as pd\n",
    "from scipy.interpolate import interp1d\n",
    "import matplotlib.pyplot as plt"
   ]
  },
  {
   "cell_type": "code",
   "execution_count": 3,
   "id": "cfcbf3be",
   "metadata": {},
   "outputs": [],
   "source": [
    "# задание параметров\n",
    "x = [-3.0 ,-1.0, 1.0, 3.0, 5.0]\n",
    "y = [2.8198, 2.3562, 0.78540, 0.32175, 0.19740]\n",
    "h = 2.0\n",
    "X_done = -0.5"
   ]
  },
  {
   "cell_type": "code",
   "execution_count": 4,
   "id": "4fbb4549",
   "metadata": {},
   "outputs": [],
   "source": [
    "x = pd.Series(x)\n",
    "y = pd.Series(y)\n",
    "df = pd.concat([x, y], axis = 1)\n",
    "Q = np.zeros(5)\n",
    "df['Q'] = Q"
   ]
  },
  {
   "cell_type": "code",
   "execution_count": 5,
   "id": "3b2bdb93",
   "metadata": {},
   "outputs": [],
   "source": [
    "# перевод значений вектора значений в тип данных float\n",
    "def floating(vect):\n",
    "    b = []\n",
    "    for i in vect:\n",
    "        b.append(float(i))\n",
    "    return np.array(b)\n",
    "# good working"
   ]
  },
  {
   "cell_type": "code",
   "execution_count": 6,
   "id": "5cf1b9be",
   "metadata": {},
   "outputs": [],
   "source": [
    "x, y = floating(x), floating(y)"
   ]
  },
  {
   "cell_type": "code",
   "execution_count": 7,
   "id": "6869fdae",
   "metadata": {},
   "outputs": [],
   "source": [
    "# составим СЛАУ\n",
    "def create_slau(h, y):\n",
    "    matrix = np.array([[0 , (2 * h) / 3, h/6],\n",
    "             [h / 6, (2 * h) / 3, h/6],\n",
    "             [h / 6, (2 * h) / 3, 0]])\n",
    "    b = []\n",
    "    for i in range(1, 4):\n",
    "        b.append(((y[i + 1] - y[i]) / h) - ((y[i] - y[i - 1]) / h))\n",
    "    b = np.array(b)\n",
    "    return matrix, b"
   ]
  },
  {
   "cell_type": "code",
   "execution_count": 8,
   "id": "5ffe8dd1",
   "metadata": {},
   "outputs": [],
   "source": [
    "def define_vectors_A_B(matrix, b):\n",
    "    A = [0]\n",
    "    B = [0]\n",
    "    for i in range(3):\n",
    "        A.append(-matrix[i][2] / (matrix[i][1] + matrix[i][0] * A[-1]))\n",
    "        B.append((b[i] - matrix[i][0] * B[-1]) / (matrix[i][1] + matrix[i][0] * A[-2]))\n",
    "    A.pop(0)\n",
    "    B.pop(0)\n",
    "    return A, B"
   ]
  },
  {
   "cell_type": "code",
   "execution_count": 9,
   "id": "2900c879",
   "metadata": {
    "scrolled": true
   },
   "outputs": [],
   "source": [
    "def define_qi(Q, A, B):\n",
    "    for i in range(len(Q) - 2):\n",
    "        Q[3 - i] = A[2 - i] * Q[3 - i + 1] + B[2 - i]\n",
    "    \n",
    "    c = 0\n",
    "    for i in Q:\n",
    "        c += 1\n",
    "        print('q' + str(c), '=', i)\n",
    "    return Q"
   ]
  },
  {
   "cell_type": "code",
   "execution_count": 10,
   "id": "e1770f74",
   "metadata": {},
   "outputs": [],
   "source": [
    "def s_in_X(Q, X_done, x, y):\n",
    "    s = []\n",
    "    for i in range(1,5):\n",
    "        a = ((Q[i - 1] * ((x[i] - X_done) ** 3)) / (6 * h)) + \\\n",
    "        ((Q[i] * ((X_done - x[i-1]) ** 3)) / (6 * h))\n",
    "        b = ((y[i-1]/h) - (Q[i - 1] * (h/6))) * (x[i] - X_done)\n",
    "        c = ((y[i]/h) - (Q[i] * (h/6))) * (X_done - x[i-1])\n",
    "        s.append(a + b + c)\n",
    "    for i in range(len(x)):\n",
    "        if X_done >= x[i] and X_done <= x[i+1]:\n",
    "            return s[i]"
   ]
  },
  {
   "cell_type": "code",
   "execution_count": 11,
   "id": "6e6caae3",
   "metadata": {},
   "outputs": [],
   "source": [
    "def graph(x, y):\n",
    "    # Ввод данных\n",
    "    x = x\n",
    "    y = y\n",
    "\n",
    "    cubic_interpolation_model = interp1d(x, y, kind = \"cubic\")\n",
    "\n",
    "    # Рисуем график\n",
    "    X_=np.linspace(x.min(), x.max(), 500)\n",
    "    Y_=cubic_interpolation_model(X_)\n",
    "\n",
    "    plt.plot(X_, Y_)\n",
    "    plt.title(\"Кубический сплайн для функции, заданной в узлах интерполяции\")\n",
    "    plt.xlabel(\"X\")\n",
    "    plt.ylabel(\"Y\")\n",
    "    plt.show()"
   ]
  },
  {
   "cell_type": "code",
   "execution_count": 19,
   "id": "80f2a417",
   "metadata": {
    "scrolled": true
   },
   "outputs": [
    {
     "name": "stdout",
     "output_type": "stream",
     "text": [
      "0 - значения Х, 1 - значения У\n"
     ]
    },
    {
     "data": {
      "text/html": [
       "<div>\n",
       "<style scoped>\n",
       "    .dataframe tbody tr th:only-of-type {\n",
       "        vertical-align: middle;\n",
       "    }\n",
       "\n",
       "    .dataframe tbody tr th {\n",
       "        vertical-align: top;\n",
       "    }\n",
       "\n",
       "    .dataframe thead th {\n",
       "        text-align: right;\n",
       "    }\n",
       "</style>\n",
       "<table border=\"1\" class=\"dataframe\">\n",
       "  <thead>\n",
       "    <tr style=\"text-align: right;\">\n",
       "      <th></th>\n",
       "      <th>0</th>\n",
       "      <th>1</th>\n",
       "      <th>Q</th>\n",
       "    </tr>\n",
       "  </thead>\n",
       "  <tbody>\n",
       "    <tr>\n",
       "      <th>0</th>\n",
       "      <td>-3.0</td>\n",
       "      <td>2.81980</td>\n",
       "      <td>0.000000</td>\n",
       "    </tr>\n",
       "    <tr>\n",
       "      <th>1</th>\n",
       "      <td>-1.0</td>\n",
       "      <td>2.35620</td>\n",
       "      <td>-2.217568</td>\n",
       "    </tr>\n",
       "    <tr>\n",
       "      <th>2</th>\n",
       "      <td>1.0</td>\n",
       "      <td>0.78540</td>\n",
       "      <td>2.227071</td>\n",
       "    </tr>\n",
       "    <tr>\n",
       "      <th>3</th>\n",
       "      <td>3.0</td>\n",
       "      <td>0.32175</td>\n",
       "      <td>-0.047818</td>\n",
       "    </tr>\n",
       "    <tr>\n",
       "      <th>4</th>\n",
       "      <td>5.0</td>\n",
       "      <td>0.19740</td>\n",
       "      <td>0.000000</td>\n",
       "    </tr>\n",
       "  </tbody>\n",
       "</table>\n",
       "</div>"
      ],
      "text/plain": [
       "     0        1         Q\n",
       "0 -3.0  2.81980  0.000000\n",
       "1 -1.0  2.35620 -2.217568\n",
       "2  1.0  0.78540  2.227071\n",
       "3  3.0  0.32175 -0.047818\n",
       "4  5.0  0.19740  0.000000"
      ]
     },
     "execution_count": 19,
     "metadata": {},
     "output_type": "execute_result"
    }
   ],
   "source": [
    "print('0 - значения Х, 1 - значения У')\n",
    "df"
   ]
  },
  {
   "cell_type": "markdown",
   "id": "937b42f9",
   "metadata": {},
   "source": [
    "Теперь первым делом необходимо создать СЛАУ для нахождения коэффициентов q. Просто сделаем, что от нас требуется. Составим сразу матричную форму СЛАУ."
   ]
  },
  {
   "cell_type": "code",
   "execution_count": 13,
   "id": "355d75b3",
   "metadata": {},
   "outputs": [
    {
     "data": {
      "text/plain": [
       "(array([[0.        , 1.33333333, 0.33333333],\n",
       "        [0.33333333, 1.33333333, 0.33333333],\n",
       "        [0.33333333, 1.33333333, 0.        ]]),\n",
       " array([-0.5536  ,  0.553575,  0.16965 ]))"
      ]
     },
     "execution_count": 13,
     "metadata": {},
     "output_type": "execute_result"
    }
   ],
   "source": [
    "# первая матрица - левая часть слау (коэффициенты при неизвестных),\n",
    "# вектор после нее - правая часть СЛАУ\n",
    "create_slau(h, y)"
   ]
  },
  {
   "attachments": {
    "image.png": {
     "image/png": "[encoded data removed]"
    }
   },
   "cell_type": "markdown",
   "id": "7f92088b",
   "metadata": {},
   "source": [
    "далее по формулам \n",
    "![image.png](attachment:image.png)\n",
    "определяются **погоночные коэфы**. Их номера соответствуют номеру в списке ниже. Например, самый первый элемент - это А1, самый последний - B3."
   ]
  },
  {
   "cell_type": "code",
   "execution_count": 14,
   "id": "8a1857da",
   "metadata": {
    "scrolled": true
   },
   "outputs": [
    {
     "name": "stdout",
     "output_type": "stream",
     "text": [
      "([A1, A2, A3], [B1, B2, B3])\n"
     ]
    },
    {
     "data": {
      "text/plain": [
       "([-0.25, -0.26666666666666666, -0.0],\n",
       " [-0.4151999999999999, 0.55358, -0.011954464285714249])"
      ]
     },
     "execution_count": 14,
     "metadata": {},
     "output_type": "execute_result"
    }
   ],
   "source": [
    "print('([A1, A2, A3], [B1, B2, B3])')\n",
    "define_vectors_A_B(create_slau(h, y)[0], create_slau(h, y)[1])"
   ]
  },
  {
   "attachments": {
    "image.png": {
     "image/png": "[encoded data removed]"
    }
   },
   "cell_type": "markdown",
   "id": "e2856ad1",
   "metadata": {},
   "source": [
    "Теперь, наконец, найдем **коэффы q2, q3, q4**. В условии про q1 и q4 сказано, что они заведомо равны 0, это мы уже отметили. \n",
    "Остальные ищутся по формуле ![image.png](attachment:image.png) Значения приведены ниже"
   ]
  },
  {
   "cell_type": "code",
   "execution_count": 15,
   "id": "0282dc6e",
   "metadata": {},
   "outputs": [
    {
     "name": "stdout",
     "output_type": "stream",
     "text": [
      "q1 = 0.0\n",
      "q2 = -2.217567857142857\n",
      "q3 = 2.2270714285714286\n",
      "q4 = -0.047817857142856995\n",
      "q5 = 0.0\n"
     ]
    }
   ],
   "source": [
    "Q = define_qi(Q,\n",
    "          define_vectors_A_B(create_slau(1, y)[0], create_slau(1, y)[1])[0],\n",
    "          define_vectors_A_B(create_slau(1, y)[0], create_slau(1, y)[1])[1])"
   ]
  },
  {
   "cell_type": "code",
   "execution_count": 16,
   "id": "863863cc",
   "metadata": {
    "scrolled": true
   },
   "outputs": [
    {
     "data": {
      "text/html": [
       "<div>\n",
       "<style scoped>\n",
       "    .dataframe tbody tr th:only-of-type {\n",
       "        vertical-align: middle;\n",
       "    }\n",
       "\n",
       "    .dataframe tbody tr th {\n",
       "        vertical-align: top;\n",
       "    }\n",
       "\n",
       "    .dataframe thead th {\n",
       "        text-align: right;\n",
       "    }\n",
       "</style>\n",
       "<table border=\"1\" class=\"dataframe\">\n",
       "  <thead>\n",
       "    <tr style=\"text-align: right;\">\n",
       "      <th></th>\n",
       "      <th>0</th>\n",
       "      <th>1</th>\n",
       "      <th>Q</th>\n",
       "    </tr>\n",
       "  </thead>\n",
       "  <tbody>\n",
       "    <tr>\n",
       "      <th>0</th>\n",
       "      <td>-3.0</td>\n",
       "      <td>2.81980</td>\n",
       "      <td>0.000000</td>\n",
       "    </tr>\n",
       "    <tr>\n",
       "      <th>1</th>\n",
       "      <td>-1.0</td>\n",
       "      <td>2.35620</td>\n",
       "      <td>-2.217568</td>\n",
       "    </tr>\n",
       "    <tr>\n",
       "      <th>2</th>\n",
       "      <td>1.0</td>\n",
       "      <td>0.78540</td>\n",
       "      <td>2.227071</td>\n",
       "    </tr>\n",
       "    <tr>\n",
       "      <th>3</th>\n",
       "      <td>3.0</td>\n",
       "      <td>0.32175</td>\n",
       "      <td>-0.047818</td>\n",
       "    </tr>\n",
       "    <tr>\n",
       "      <th>4</th>\n",
       "      <td>5.0</td>\n",
       "      <td>0.19740</td>\n",
       "      <td>0.000000</td>\n",
       "    </tr>\n",
       "  </tbody>\n",
       "</table>\n",
       "</div>"
      ],
      "text/plain": [
       "     0        1         Q\n",
       "0 -3.0  2.81980  0.000000\n",
       "1 -1.0  2.35620 -2.217568\n",
       "2  1.0  0.78540  2.227071\n",
       "3  3.0  0.32175 -0.047818\n",
       "4  5.0  0.19740  0.000000"
      ]
     },
     "execution_count": 16,
     "metadata": {},
     "output_type": "execute_result"
    }
   ],
   "source": [
    "df = pd.concat([pd.Series(x), pd.Series(y)], axis = 1)\n",
    "df['Q'] = Q\n",
    "df"
   ]
  },
  {
   "cell_type": "markdown",
   "id": "43a47f9e",
   "metadata": {},
   "source": [
    "Так мы теперь заполнили таблицу. Ее мы используем в следуюшем шаге."
   ]
  },
  {
   "attachments": {
    "image.png": {
     "image/png": "[encoded data removed]"
    }
   },
   "cell_type": "markdown",
   "id": "2b513772",
   "metadata": {},
   "source": [
    "####  Воспользуемся основной формулой, которая дает нам возможность сделать сплайн. Здесь мы просто подставляем для каждого i свои параметры x, y, q, h. Причем \n",
    "$$ h = Xi - Xi-1$$\n",
    "xi и xi-1 соответсвующие таблице значения. h - const. Всего необходимо найти\n",
    "$$S_1, S_2, S_3, S_4$$\n",
    "![image.png](attachment:image.png)\n",
    "Значения для всех S нужно просто подставить из таблицы, которую мы уже составили (ячейка ниже), не производя арифметические действия."
   ]
  },
  {
   "cell_type": "markdown",
   "id": "48fa81e9",
   "metadata": {},
   "source": [
    "Наконец сам график, который нам нужно было построить"
   ]
  },
  {
   "cell_type": "code",
   "execution_count": 17,
   "id": "493b933f",
   "metadata": {
    "scrolled": true
   },
   "outputs": [
    {
     "data": {
      "image/png": "[encoded data removed]",
      "text/plain": [
       "<Figure size 432x288 with 1 Axes>"
      ]
     },
     "metadata": {
      "needs_background": "light"
     },
     "output_type": "display_data"
    }
   ],
   "source": [
    "graph(x,y)"
   ]
  },
  {
   "cell_type": "markdown",
   "id": "e710c9c5",
   "metadata": {},
   "source": [
    "Теперь посчитаем значение функции У в заданной условием задачи точке Х*."
   ]
  },
  {
   "cell_type": "code",
   "execution_count": 18,
   "id": "7b32d79b",
   "metadata": {
    "scrolled": false
   },
   "outputs": [
    {
     "name": "stdout",
     "output_type": "stream",
     "text": [
      "S(x*) = 2.1006130580357145\n"
     ]
    }
   ],
   "source": [
    "print('S(x*) =', s_in_X(Q, X_done, x, y))"
   ]
  },
  {
   "cell_type": "code",
   "execution_count": null,
   "id": "0d9ebe85",
   "metadata": {},
   "outputs": [],
   "source": []
  }
 ],
 "metadata": {
  "kernelspec": {
   "display_name": "Python 3 (ipykernel)",
   "language": "python",
   "name": "python3"
  },
  "language_info": {
   "codemirror_mode": {
    "name": "ipython",
    "version": 3
   },
   "file_extension": ".py",
   "mimetype": "text/x-python",
   "name": "python",
   "nbconvert_exporter": "python",
   "pygments_lexer": "ipython3",
   "version": "3.9.7"
  }
 },
 "nbformat": 4,
 "nbformat_minor": 5
}
