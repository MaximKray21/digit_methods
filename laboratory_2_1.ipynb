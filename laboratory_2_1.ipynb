{
 "cells": [
  {
   "cell_type": "markdown",
   "metadata": {},
   "source": [
    "#### Импортируем необходимые библиотеки для решения задач и выключаем для удобства работы \"предупреждения\"\n",
    "\n",
    "про данные библиотеки вы можете почитать [тут (numpy)](https://numpy.org) и [тут (math)](https://docs.python.org/3/library/math.html)"
   ]
  },
  {
   "cell_type": "code",
   "execution_count": 2,
   "metadata": {
    "id": "ludLQjEFx5oM"
   },
   "outputs": [],
   "source": [
    "import numpy as np\n",
    "import math\n",
    "import warnings\n",
    "warnings.filterwarnings(\"ignore\")"
   ]
  },
  {
   "cell_type": "markdown",
   "metadata": {
    "id": "AEqHpQLbGNr_"
   },
   "source": [
    "### Программа для решения нелинейных уравнений методом Ньютона"
   ]
  },
  {
   "cell_type": "code",
   "execution_count": 3,
   "metadata": {},
   "outputs": [],
   "source": [
    "# 2 ** (x) + (x ** 2) - 2"
   ]
  },
  {
   "cell_type": "code",
   "execution_count": 4,
   "metadata": {
    "id": "F9TGTODsyQLl"
   },
   "outputs": [],
   "source": [
    "def function(x): # Задаваемая функция\n",
    "    return 2 ** (x) + (x ** 2) - 2"
   ]
  },
  {
   "cell_type": "code",
   "execution_count": 5,
   "metadata": {
    "id": "OBGfHZhXz9RJ"
   },
   "outputs": [],
   "source": [
    "def derivative_fun(F,x,d2F = False, delta = 0.001): # Функция, численно считающая 1-ю и 2-ю производные\n",
    "    if not d2F:\n",
    "        dF = (F(x + delta) - F(x - delta)) / (2 * delta) #Первая производная\n",
    "    else:\n",
    "        dF = ( F(x - delta) - 2 * F(x) + F(x + delta) ) / delta ** 2 #Вторая производная\n",
    "    return np.round(dF, 3)"
   ]
  },
  {
   "cell_type": "code",
   "execution_count": 50,
   "metadata": {
    "id": "lNNMxNa0zvK8"
   },
   "outputs": [],
   "source": [
    "intervals = [[-2, 0], [0, 1]] # Приближенные интервалы, с помощью десмоса\n",
    "\n",
    "def Newton_metod(F, interval, E):\n",
    "    zeroX = np.arange(interval[0], interval[1]+0.001, 0.01) # Задаем массив возможных начальных приближений\n",
    "    for i in zeroX: # выбираем первое приближение\n",
    "        if derivative_fun(F,i, d2F = True) * F(i) > 0:\n",
    "            Xk = i\n",
    "            break\n",
    "    isferst = True\n",
    "    print(f'Начальное приближение X0: {Xk}')\n",
    "  \n",
    "    if F(interval[0])* F(interval[1]) > 0 or F(Xk) * derivative_fun(F,Xk, d2F = True) < 0: # Проверяем метод на сходимость\n",
    "        return 'Not posible'\n",
    "\n",
    "    iter = 1\n",
    "    while isferst or E < E1: #Ищем корни\n",
    "        isferst = False\n",
    "  \n",
    "        Xk1 = Xk - (F(Xk) / derivative_fun(F, Xk)) # Из k корня вычитаем отношение функции в точке k и 1-й производной в точке k\n",
    "        E1 = abs(Xk - Xk1) #Считаем погрешность\n",
    "        Xk = Xk1\n",
    "        print(f'Корень на {iter} итерации {Xk}, погрешность на {iter} итерации {E1}')\n",
    "        iter += 1\n",
    "    print()\n",
    "    return f'Корень уравнения на промежутке от {interval[0]} до {interval[1]} равен {Xk1}'"
   ]
  },
  {
   "cell_type": "code",
   "execution_count": 51,
   "metadata": {
    "colab": {
     "base_uri": "https://localhost:8080/",
     "height": 105
    },
    "id": "FYBXX4fp_MBp",
    "outputId": "dda94c1f-68a9-4dea-f2e4-92a0c8ce9216"
   },
   "outputs": [
    {
     "name": "stdout",
     "output_type": "stream",
     "text": [
      "Начальное приближение X0: 0.66\n",
      "Корень на 1 итерации 0.6535061599475136, погрешность на 1 итерации 0.006493840052486433\n",
      "Корень на 2 итерации 0.6534825219166602, погрешность на 2 итерации 2.363803085336791e-05\n",
      "\n"
     ]
    },
    {
     "data": {
      "text/plain": [
       "'Корень уравнения на промежутке от 0 до 1 равен 0.6534825219166602'"
      ]
     },
     "execution_count": 51,
     "metadata": {},
     "output_type": "execute_result"
    }
   ],
   "source": [
    "Newton_metod(function,intervals[1],0.001)"
   ]
  },
  {
   "cell_type": "markdown",
   "metadata": {
    "id": "b1o3B85NHG26"
   },
   "source": [
    "### Программа для решения нелинейных уравнений методом Простых итераций"
   ]
  },
  {
   "cell_type": "markdown",
   "metadata": {},
   "source": [
    "Задается функция Fi, которая считается вручную"
   ]
  },
  {
   "cell_type": "code",
   "execution_count": 17,
   "metadata": {
    "id": "rmg92-gvGqI1"
   },
   "outputs": [],
   "source": [
    "def Fi(x):\n",
    "    return np.sqrt(2 - 2 ** x)"
   ]
  },
  {
   "cell_type": "markdown",
   "metadata": {},
   "source": [
    "*Основная часть кода*"
   ]
  },
  {
   "cell_type": "code",
   "execution_count": 18,
   "metadata": {
    "id": "oJF_a--aG1iT"
   },
   "outputs": [],
   "source": [
    "def sample_item(f, interval, E):\n",
    "    qi = np.arange(interval[0], interval[1] + 0.001, 0.01)\n",
    "    q = -float('inf')\n",
    "    \n",
    "    # Считаем первое приближение корня\n",
    "    Xk = sum(interval) / 2 \n",
    "    \n",
    "# Выбираем коэфицент соотношения погрешностей,\n",
    "# как максимальное значение модуля производной, \n",
    "# меньшего единицы на промеждутке заданного интервала \n",
    "\n",
    "    for i in qi: \n",
    "        df = abs(derivative_fun(f,i))\n",
    "        if df < 1:\n",
    "            q = max(q,df)\n",
    "    print(q, Xk)\n",
    "    iter = 1\n",
    "    isferst = True\n",
    "\n",
    "    # Считаем приближение корня\n",
    "    while isferst or E < E1:\n",
    "        isferst = False\n",
    "        \n",
    "    # Считаем новый корень\n",
    "        Xk1 = f(Xk)\n",
    "        E1 = abs(Xk - Xk1) * (1 - q) / q \n",
    "        Xk = Xk1\n",
    "\n",
    "        print(f'корень на {iter} итерации {Xk}, погрешность на {iter} итерации {E1}')\n",
    "        iter += 1\n",
    "    return f'Корень уравнения на промежутке от {interval[0]} до {interval[1]} равен {Xk1}'"
   ]
  },
  {
   "cell_type": "markdown",
   "metadata": {},
   "source": [
    "Используем один интервал. В нашем случае - [0;1]"
   ]
  },
  {
   "cell_type": "code",
   "execution_count": 49,
   "metadata": {
    "colab": {
     "base_uri": "https://localhost:8080/",
     "height": 276
    },
    "id": "AV_QOlByIvGo",
    "outputId": "86932044-2bc2-4311-850e-45570e229758",
    "scrolled": true
   },
   "outputs": [
    {
     "name": "stdout",
     "output_type": "stream",
     "text": [
      "0.984 0.5\n",
      "корень на 1 итерации 0.7653668647301795, погрешность на 1 итерации 0.004314908369596418\n",
      "корень на 2 итерации 0.5479031044328672, погрешность на 2 итерации 0.003535996102395325\n",
      "корень на 3 итерации 0.7335126067797604, погрешность на 3 итерации 0.003018040688567372\n",
      "корень на 4 итерации 0.5807905051239204, погрешность на 4 итерации 0.0024832862057860183\n",
      "корень на 5 итерации 0.710162970457428, погрешность на 5 итерации 0.0021036173224960614\n",
      "корень на 6 итерации 0.6033333141002609, погрешность на 6 итерации 0.0017370675830433694\n",
      "корень на 7 итерации 0.6933811044567696, погрешность на 7 итерации 0.0014641917131139636\n",
      "корень на 8 итерации 0.6188143110050557, погрешность на 8 итерации 0.0012124681862067314\n",
      "корень на 9 итерации 0.6814597503997554, погрешность на 9 итерации 0.0010186250308081258\n",
      "корень на 10 итерации 0.6294746574506391, погрешность на 10 итерации 0.0008452860642132729\n"
     ]
    },
    {
     "data": {
      "text/plain": [
       "'Корень уравнения на промежутке от 0 до 1 равен 0.6294746574506391'"
      ]
     },
     "execution_count": 49,
     "metadata": {},
     "output_type": "execute_result"
    }
   ],
   "source": [
    "sample_item(Fi, intervals[1], 0.001)"
   ]
  }
 ],
 "metadata": {
  "colab": {
   "provenance": []
  },
  "kernelspec": {
   "display_name": "Python 3 (ipykernel)",
   "language": "python",
   "name": "python3"
  },
  "language_info": {
   "codemirror_mode": {
    "name": "ipython",
    "version": 3
   },
   "file_extension": ".py",
   "mimetype": "text/x-python",
   "name": "python",
   "nbconvert_exporter": "python",
   "pygments_lexer": "ipython3",
   "version": "3.9.7"
  }
 },
 "nbformat": 4,
 "nbformat_minor": 1
}
