{
  "nbformat": 4,
  "nbformat_minor": 0,
  "metadata": {
    "colab": {
      "provenance": [],
      "include_colab_link": true
    },
    "kernelspec": {
      "name": "python3",
      "display_name": "Python 3"
    }
  },
  "cells": [
    {
      "cell_type": "markdown",
      "metadata": {
        "id": "view-in-github",
        "colab_type": "text"
      },
      "source": [
        "<a href=\"https://colab.research.google.com/github/MaximKray21/digit_methods/blob/About_ML/gradient_boosting_from_scratch.ipynb\" target=\"_parent\"><img src=\"https://colab.research.google.com/assets/colab-badge.svg\" alt=\"Open In Colab\"/></a>"
      ]
    },
    {
      "cell_type": "code",
      "metadata": {
        "id": "N-PJNSecjZAm"
      },
      "source": [
        "import pandas as pd\n",
        "import numpy as np"
      ],
      "execution_count": null,
      "outputs": []
    },
    {
      "cell_type": "code",
      "metadata": {
        "id": "xt-LIZTglZ4T"
      },
      "source": [
        "from sklearn.datasets import make_regression"
      ],
      "execution_count": null,
      "outputs": []
    },
    {
      "cell_type": "code",
      "metadata": {
        "id": "20ME0i4cmc-u"
      },
      "source": [
        "X, y = make_regression(n_samples=10,n_features=3)"
      ],
      "execution_count": null,
      "outputs": []
    },
    {
      "cell_type": "code",
      "metadata": {
        "id": "P0To9O9MmxXK",
        "colab": {
          "base_uri": "https://localhost:8080/",
          "height": 187
        },
        "outputId": "4f60a29f-f807-4b57-bc19-acd00eccd639"
      },
      "source": [
        "X"
      ],
      "execution_count": null,
      "outputs": [
        {
          "output_type": "execute_result",
          "data": {
            "text/plain": [
              "array([[-1.31838402, -1.51907296,  0.08493955],\n",
              "       [-2.06559129,  1.00065027, -0.42646513],\n",
              "       [-0.4762085 , -0.64973174, -0.65156105],\n",
              "       [-0.22895976,  1.63456304,  1.98340427],\n",
              "       [ 1.12113685,  1.98246591, -0.18035342],\n",
              "       [ 1.21741201, -0.08914702,  0.68652575],\n",
              "       [ 0.99575919, -0.88447438, -0.68861304],\n",
              "       [ 1.10970639,  0.48009525,  0.63612759],\n",
              "       [ 0.00787309,  0.36512726, -1.7394705 ],\n",
              "       [ 1.49065405,  1.78945998, -0.42610538]])"
            ]
          },
          "metadata": {
            "tags": []
          },
          "execution_count": 5
        }
      ]
    },
    {
      "cell_type": "code",
      "metadata": {
        "id": "hW-6R8msmyKq",
        "colab": {
          "base_uri": "https://localhost:8080/",
          "height": 68
        },
        "outputId": "65b66c87-edd9-4b64-a891-39c3ec337e73"
      },
      "source": [
        "y"
      ],
      "execution_count": null,
      "outputs": [
        {
          "output_type": "execute_result",
          "data": {
            "text/plain": [
              "array([-163.2783901 ,  -18.12863844,  -66.73597756,  107.25591077,\n",
              "        187.41519603,   46.3675759 ,  -20.43186235,   81.83014433,\n",
              "         24.43356343,  189.36997768])"
            ]
          },
          "metadata": {
            "tags": []
          },
          "execution_count": 6
        }
      ]
    },
    {
      "cell_type": "code",
      "metadata": {
        "id": "ouYxQoqGmzdO"
      },
      "source": [
        "df = pd.DataFrame(X)"
      ],
      "execution_count": null,
      "outputs": []
    },
    {
      "cell_type": "code",
      "metadata": {
        "id": "GBY1jdrFm4h2"
      },
      "source": [
        "df['y_true'] = y"
      ],
      "execution_count": null,
      "outputs": []
    },
    {
      "cell_type": "code",
      "metadata": {
        "id": "kGP7kNhym5HB"
      },
      "source": [
        "df['y_pred_0'] = df['y_true'].mean()"
      ],
      "execution_count": null,
      "outputs": []
    },
    {
      "cell_type": "code",
      "metadata": {
        "id": "LyVqAtp-m8uW",
        "colab": {
          "base_uri": "https://localhost:8080/",
          "height": 359
        },
        "outputId": "85afb693-8888-46bd-ebe7-3664c9080c8b"
      },
      "source": [
        "df"
      ],
      "execution_count": null,
      "outputs": [
        {
          "output_type": "execute_result",
          "data": {
            "text/html": [
              "<div>\n",
              "<style scoped>\n",
              "    .dataframe tbody tr th:only-of-type {\n",
              "        vertical-align: middle;\n",
              "    }\n",
              "\n",
              "    .dataframe tbody tr th {\n",
              "        vertical-align: top;\n",
              "    }\n",
              "\n",
              "    .dataframe thead th {\n",
              "        text-align: right;\n",
              "    }\n",
              "</style>\n",
              "<table border=\"1\" class=\"dataframe\">\n",
              "  <thead>\n",
              "    <tr style=\"text-align: right;\">\n",
              "      <th></th>\n",
              "      <th>0</th>\n",
              "      <th>1</th>\n",
              "      <th>2</th>\n",
              "      <th>y_true</th>\n",
              "      <th>y_pred_0</th>\n",
              "    </tr>\n",
              "  </thead>\n",
              "  <tbody>\n",
              "    <tr>\n",
              "      <th>0</th>\n",
              "      <td>-1.318384</td>\n",
              "      <td>-1.519073</td>\n",
              "      <td>0.084940</td>\n",
              "      <td>-163.278390</td>\n",
              "      <td>36.80975</td>\n",
              "    </tr>\n",
              "    <tr>\n",
              "      <th>1</th>\n",
              "      <td>-2.065591</td>\n",
              "      <td>1.000650</td>\n",
              "      <td>-0.426465</td>\n",
              "      <td>-18.128638</td>\n",
              "      <td>36.80975</td>\n",
              "    </tr>\n",
              "    <tr>\n",
              "      <th>2</th>\n",
              "      <td>-0.476208</td>\n",
              "      <td>-0.649732</td>\n",
              "      <td>-0.651561</td>\n",
              "      <td>-66.735978</td>\n",
              "      <td>36.80975</td>\n",
              "    </tr>\n",
              "    <tr>\n",
              "      <th>3</th>\n",
              "      <td>-0.228960</td>\n",
              "      <td>1.634563</td>\n",
              "      <td>1.983404</td>\n",
              "      <td>107.255911</td>\n",
              "      <td>36.80975</td>\n",
              "    </tr>\n",
              "    <tr>\n",
              "      <th>4</th>\n",
              "      <td>1.121137</td>\n",
              "      <td>1.982466</td>\n",
              "      <td>-0.180353</td>\n",
              "      <td>187.415196</td>\n",
              "      <td>36.80975</td>\n",
              "    </tr>\n",
              "    <tr>\n",
              "      <th>5</th>\n",
              "      <td>1.217412</td>\n",
              "      <td>-0.089147</td>\n",
              "      <td>0.686526</td>\n",
              "      <td>46.367576</td>\n",
              "      <td>36.80975</td>\n",
              "    </tr>\n",
              "    <tr>\n",
              "      <th>6</th>\n",
              "      <td>0.995759</td>\n",
              "      <td>-0.884474</td>\n",
              "      <td>-0.688613</td>\n",
              "      <td>-20.431862</td>\n",
              "      <td>36.80975</td>\n",
              "    </tr>\n",
              "    <tr>\n",
              "      <th>7</th>\n",
              "      <td>1.109706</td>\n",
              "      <td>0.480095</td>\n",
              "      <td>0.636128</td>\n",
              "      <td>81.830144</td>\n",
              "      <td>36.80975</td>\n",
              "    </tr>\n",
              "    <tr>\n",
              "      <th>8</th>\n",
              "      <td>0.007873</td>\n",
              "      <td>0.365127</td>\n",
              "      <td>-1.739471</td>\n",
              "      <td>24.433563</td>\n",
              "      <td>36.80975</td>\n",
              "    </tr>\n",
              "    <tr>\n",
              "      <th>9</th>\n",
              "      <td>1.490654</td>\n",
              "      <td>1.789460</td>\n",
              "      <td>-0.426105</td>\n",
              "      <td>189.369978</td>\n",
              "      <td>36.80975</td>\n",
              "    </tr>\n",
              "  </tbody>\n",
              "</table>\n",
              "</div>"
            ],
            "text/plain": [
              "          0         1         2      y_true  y_pred_0\n",
              "0 -1.318384 -1.519073  0.084940 -163.278390  36.80975\n",
              "1 -2.065591  1.000650 -0.426465  -18.128638  36.80975\n",
              "2 -0.476208 -0.649732 -0.651561  -66.735978  36.80975\n",
              "3 -0.228960  1.634563  1.983404  107.255911  36.80975\n",
              "4  1.121137  1.982466 -0.180353  187.415196  36.80975\n",
              "5  1.217412 -0.089147  0.686526   46.367576  36.80975\n",
              "6  0.995759 -0.884474 -0.688613  -20.431862  36.80975\n",
              "7  1.109706  0.480095  0.636128   81.830144  36.80975\n",
              "8  0.007873  0.365127 -1.739471   24.433563  36.80975\n",
              "9  1.490654  1.789460 -0.426105  189.369978  36.80975"
            ]
          },
          "metadata": {
            "tags": []
          },
          "execution_count": 12
        }
      ]
    },
    {
      "cell_type": "code",
      "metadata": {
        "id": "twoXX96anTtI"
      },
      "source": [
        "from sklearn.metrics import mean_absolute_error, mean_squared_error"
      ],
      "execution_count": null,
      "outputs": []
    },
    {
      "cell_type": "code",
      "metadata": {
        "id": "oulJVm8yndTG",
        "colab": {
          "base_uri": "https://localhost:8080/",
          "height": 34
        },
        "outputId": "4fbb3998-d307-49b6-d322-64daefb006f7"
      },
      "source": [
        "mean_absolute_error(df['y_true'],df['y_pred_0'])"
      ],
      "execution_count": null,
      "outputs": [
        {
          "output_type": "execute_result",
          "data": {
            "text/plain": [
              "85.63801097313119"
            ]
          },
          "metadata": {
            "tags": []
          },
          "execution_count": 14
        }
      ]
    },
    {
      "cell_type": "code",
      "metadata": {
        "id": "4WKoTEIXnk8M"
      },
      "source": [
        "df['residual_0'] = df['y_true'] - df['y_pred_0']"
      ],
      "execution_count": null,
      "outputs": []
    },
    {
      "cell_type": "code",
      "metadata": {
        "id": "oAUcyTcgnyla",
        "colab": {
          "base_uri": "https://localhost:8080/",
          "height": 359
        },
        "outputId": "0e0b9d1b-1dcd-4f8f-95fd-162f426b7134"
      },
      "source": [
        "df"
      ],
      "execution_count": null,
      "outputs": [
        {
          "output_type": "execute_result",
          "data": {
            "text/html": [
              "<div>\n",
              "<style scoped>\n",
              "    .dataframe tbody tr th:only-of-type {\n",
              "        vertical-align: middle;\n",
              "    }\n",
              "\n",
              "    .dataframe tbody tr th {\n",
              "        vertical-align: top;\n",
              "    }\n",
              "\n",
              "    .dataframe thead th {\n",
              "        text-align: right;\n",
              "    }\n",
              "</style>\n",
              "<table border=\"1\" class=\"dataframe\">\n",
              "  <thead>\n",
              "    <tr style=\"text-align: right;\">\n",
              "      <th></th>\n",
              "      <th>0</th>\n",
              "      <th>1</th>\n",
              "      <th>2</th>\n",
              "      <th>y_true</th>\n",
              "      <th>y_pred_0</th>\n",
              "      <th>residual_0</th>\n",
              "    </tr>\n",
              "  </thead>\n",
              "  <tbody>\n",
              "    <tr>\n",
              "      <th>0</th>\n",
              "      <td>-1.318384</td>\n",
              "      <td>-1.519073</td>\n",
              "      <td>0.084940</td>\n",
              "      <td>-163.278390</td>\n",
              "      <td>36.80975</td>\n",
              "      <td>-200.088140</td>\n",
              "    </tr>\n",
              "    <tr>\n",
              "      <th>1</th>\n",
              "      <td>-2.065591</td>\n",
              "      <td>1.000650</td>\n",
              "      <td>-0.426465</td>\n",
              "      <td>-18.128638</td>\n",
              "      <td>36.80975</td>\n",
              "      <td>-54.938388</td>\n",
              "    </tr>\n",
              "    <tr>\n",
              "      <th>2</th>\n",
              "      <td>-0.476208</td>\n",
              "      <td>-0.649732</td>\n",
              "      <td>-0.651561</td>\n",
              "      <td>-66.735978</td>\n",
              "      <td>36.80975</td>\n",
              "      <td>-103.545728</td>\n",
              "    </tr>\n",
              "    <tr>\n",
              "      <th>3</th>\n",
              "      <td>-0.228960</td>\n",
              "      <td>1.634563</td>\n",
              "      <td>1.983404</td>\n",
              "      <td>107.255911</td>\n",
              "      <td>36.80975</td>\n",
              "      <td>70.446161</td>\n",
              "    </tr>\n",
              "    <tr>\n",
              "      <th>4</th>\n",
              "      <td>1.121137</td>\n",
              "      <td>1.982466</td>\n",
              "      <td>-0.180353</td>\n",
              "      <td>187.415196</td>\n",
              "      <td>36.80975</td>\n",
              "      <td>150.605446</td>\n",
              "    </tr>\n",
              "    <tr>\n",
              "      <th>5</th>\n",
              "      <td>1.217412</td>\n",
              "      <td>-0.089147</td>\n",
              "      <td>0.686526</td>\n",
              "      <td>46.367576</td>\n",
              "      <td>36.80975</td>\n",
              "      <td>9.557826</td>\n",
              "    </tr>\n",
              "    <tr>\n",
              "      <th>6</th>\n",
              "      <td>0.995759</td>\n",
              "      <td>-0.884474</td>\n",
              "      <td>-0.688613</td>\n",
              "      <td>-20.431862</td>\n",
              "      <td>36.80975</td>\n",
              "      <td>-57.241612</td>\n",
              "    </tr>\n",
              "    <tr>\n",
              "      <th>7</th>\n",
              "      <td>1.109706</td>\n",
              "      <td>0.480095</td>\n",
              "      <td>0.636128</td>\n",
              "      <td>81.830144</td>\n",
              "      <td>36.80975</td>\n",
              "      <td>45.020394</td>\n",
              "    </tr>\n",
              "    <tr>\n",
              "      <th>8</th>\n",
              "      <td>0.007873</td>\n",
              "      <td>0.365127</td>\n",
              "      <td>-1.739471</td>\n",
              "      <td>24.433563</td>\n",
              "      <td>36.80975</td>\n",
              "      <td>-12.376187</td>\n",
              "    </tr>\n",
              "    <tr>\n",
              "      <th>9</th>\n",
              "      <td>1.490654</td>\n",
              "      <td>1.789460</td>\n",
              "      <td>-0.426105</td>\n",
              "      <td>189.369978</td>\n",
              "      <td>36.80975</td>\n",
              "      <td>152.560228</td>\n",
              "    </tr>\n",
              "  </tbody>\n",
              "</table>\n",
              "</div>"
            ],
            "text/plain": [
              "          0         1         2      y_true  y_pred_0  residual_0\n",
              "0 -1.318384 -1.519073  0.084940 -163.278390  36.80975 -200.088140\n",
              "1 -2.065591  1.000650 -0.426465  -18.128638  36.80975  -54.938388\n",
              "2 -0.476208 -0.649732 -0.651561  -66.735978  36.80975 -103.545728\n",
              "3 -0.228960  1.634563  1.983404  107.255911  36.80975   70.446161\n",
              "4  1.121137  1.982466 -0.180353  187.415196  36.80975  150.605446\n",
              "5  1.217412 -0.089147  0.686526   46.367576  36.80975    9.557826\n",
              "6  0.995759 -0.884474 -0.688613  -20.431862  36.80975  -57.241612\n",
              "7  1.109706  0.480095  0.636128   81.830144  36.80975   45.020394\n",
              "8  0.007873  0.365127 -1.739471   24.433563  36.80975  -12.376187\n",
              "9  1.490654  1.789460 -0.426105  189.369978  36.80975  152.560228"
            ]
          },
          "metadata": {
            "tags": []
          },
          "execution_count": 16
        }
      ]
    },
    {
      "cell_type": "code",
      "metadata": {
        "id": "pfvExAREnzu0"
      },
      "source": [
        "from sklearn.tree import DecisionTreeRegressor"
      ],
      "execution_count": null,
      "outputs": []
    },
    {
      "cell_type": "code",
      "metadata": {
        "id": "nid0X5eHoTr4"
      },
      "source": [
        "tree_1 = DecisionTreeRegressor(max_depth=1)"
      ],
      "execution_count": null,
      "outputs": []
    },
    {
      "cell_type": "code",
      "metadata": {
        "id": "WNSC7sHWobSn",
        "colab": {
          "base_uri": "https://localhost:8080/",
          "height": 119
        },
        "outputId": "7ccc4d9f-b02d-44fc-a6fd-6a82cc9b819a"
      },
      "source": [
        "tree_1.fit(df[[0,1,2]],df['residual_0'])"
      ],
      "execution_count": null,
      "outputs": [
        {
          "output_type": "execute_result",
          "data": {
            "text/plain": [
              "DecisionTreeRegressor(ccp_alpha=0.0, criterion='mse', max_depth=1,\n",
              "                      max_features=None, max_leaf_nodes=None,\n",
              "                      min_impurity_decrease=0.0, min_impurity_split=None,\n",
              "                      min_samples_leaf=1, min_samples_split=2,\n",
              "                      min_weight_fraction_leaf=0.0, presort='deprecated',\n",
              "                      random_state=None, splitter='best')"
            ]
          },
          "metadata": {
            "tags": []
          },
          "execution_count": 19
        }
      ]
    },
    {
      "cell_type": "code",
      "metadata": {
        "id": "tuvNcywjoiEe"
      },
      "source": [
        "df['tree_pred_1'] = tree_1.predict(df[[0,1,2]])"
      ],
      "execution_count": null,
      "outputs": []
    },
    {
      "cell_type": "code",
      "metadata": {
        "id": "Zf7sFXCJopNJ",
        "colab": {
          "base_uri": "https://localhost:8080/",
          "height": 359
        },
        "outputId": "7a6ee052-151f-483b-ea33-34607178e956"
      },
      "source": [
        "df"
      ],
      "execution_count": null,
      "outputs": [
        {
          "output_type": "execute_result",
          "data": {
            "text/html": [
              "<div>\n",
              "<style scoped>\n",
              "    .dataframe tbody tr th:only-of-type {\n",
              "        vertical-align: middle;\n",
              "    }\n",
              "\n",
              "    .dataframe tbody tr th {\n",
              "        vertical-align: top;\n",
              "    }\n",
              "\n",
              "    .dataframe thead th {\n",
              "        text-align: right;\n",
              "    }\n",
              "</style>\n",
              "<table border=\"1\" class=\"dataframe\">\n",
              "  <thead>\n",
              "    <tr style=\"text-align: right;\">\n",
              "      <th></th>\n",
              "      <th>0</th>\n",
              "      <th>1</th>\n",
              "      <th>2</th>\n",
              "      <th>y_true</th>\n",
              "      <th>y_pred_0</th>\n",
              "      <th>residual_0</th>\n",
              "      <th>tree_pred_1</th>\n",
              "    </tr>\n",
              "  </thead>\n",
              "  <tbody>\n",
              "    <tr>\n",
              "      <th>0</th>\n",
              "      <td>-1.318384</td>\n",
              "      <td>-1.519073</td>\n",
              "      <td>0.084940</td>\n",
              "      <td>-163.278390</td>\n",
              "      <td>36.80975</td>\n",
              "      <td>-200.088140</td>\n",
              "      <td>-53.373119</td>\n",
              "    </tr>\n",
              "    <tr>\n",
              "      <th>1</th>\n",
              "      <td>-2.065591</td>\n",
              "      <td>1.000650</td>\n",
              "      <td>-0.426465</td>\n",
              "      <td>-18.128638</td>\n",
              "      <td>36.80975</td>\n",
              "      <td>-54.938388</td>\n",
              "      <td>-53.373119</td>\n",
              "    </tr>\n",
              "    <tr>\n",
              "      <th>2</th>\n",
              "      <td>-0.476208</td>\n",
              "      <td>-0.649732</td>\n",
              "      <td>-0.651561</td>\n",
              "      <td>-66.735978</td>\n",
              "      <td>36.80975</td>\n",
              "      <td>-103.545728</td>\n",
              "      <td>-53.373119</td>\n",
              "    </tr>\n",
              "    <tr>\n",
              "      <th>3</th>\n",
              "      <td>-0.228960</td>\n",
              "      <td>1.634563</td>\n",
              "      <td>1.983404</td>\n",
              "      <td>107.255911</td>\n",
              "      <td>36.80975</td>\n",
              "      <td>70.446161</td>\n",
              "      <td>124.537278</td>\n",
              "    </tr>\n",
              "    <tr>\n",
              "      <th>4</th>\n",
              "      <td>1.121137</td>\n",
              "      <td>1.982466</td>\n",
              "      <td>-0.180353</td>\n",
              "      <td>187.415196</td>\n",
              "      <td>36.80975</td>\n",
              "      <td>150.605446</td>\n",
              "      <td>124.537278</td>\n",
              "    </tr>\n",
              "    <tr>\n",
              "      <th>5</th>\n",
              "      <td>1.217412</td>\n",
              "      <td>-0.089147</td>\n",
              "      <td>0.686526</td>\n",
              "      <td>46.367576</td>\n",
              "      <td>36.80975</td>\n",
              "      <td>9.557826</td>\n",
              "      <td>-53.373119</td>\n",
              "    </tr>\n",
              "    <tr>\n",
              "      <th>6</th>\n",
              "      <td>0.995759</td>\n",
              "      <td>-0.884474</td>\n",
              "      <td>-0.688613</td>\n",
              "      <td>-20.431862</td>\n",
              "      <td>36.80975</td>\n",
              "      <td>-57.241612</td>\n",
              "      <td>-53.373119</td>\n",
              "    </tr>\n",
              "    <tr>\n",
              "      <th>7</th>\n",
              "      <td>1.109706</td>\n",
              "      <td>0.480095</td>\n",
              "      <td>0.636128</td>\n",
              "      <td>81.830144</td>\n",
              "      <td>36.80975</td>\n",
              "      <td>45.020394</td>\n",
              "      <td>-53.373119</td>\n",
              "    </tr>\n",
              "    <tr>\n",
              "      <th>8</th>\n",
              "      <td>0.007873</td>\n",
              "      <td>0.365127</td>\n",
              "      <td>-1.739471</td>\n",
              "      <td>24.433563</td>\n",
              "      <td>36.80975</td>\n",
              "      <td>-12.376187</td>\n",
              "      <td>-53.373119</td>\n",
              "    </tr>\n",
              "    <tr>\n",
              "      <th>9</th>\n",
              "      <td>1.490654</td>\n",
              "      <td>1.789460</td>\n",
              "      <td>-0.426105</td>\n",
              "      <td>189.369978</td>\n",
              "      <td>36.80975</td>\n",
              "      <td>152.560228</td>\n",
              "      <td>124.537278</td>\n",
              "    </tr>\n",
              "  </tbody>\n",
              "</table>\n",
              "</div>"
            ],
            "text/plain": [
              "          0         1         2      y_true  y_pred_0  residual_0  tree_pred_1\n",
              "0 -1.318384 -1.519073  0.084940 -163.278390  36.80975 -200.088140   -53.373119\n",
              "1 -2.065591  1.000650 -0.426465  -18.128638  36.80975  -54.938388   -53.373119\n",
              "2 -0.476208 -0.649732 -0.651561  -66.735978  36.80975 -103.545728   -53.373119\n",
              "3 -0.228960  1.634563  1.983404  107.255911  36.80975   70.446161   124.537278\n",
              "4  1.121137  1.982466 -0.180353  187.415196  36.80975  150.605446   124.537278\n",
              "5  1.217412 -0.089147  0.686526   46.367576  36.80975    9.557826   -53.373119\n",
              "6  0.995759 -0.884474 -0.688613  -20.431862  36.80975  -57.241612   -53.373119\n",
              "7  1.109706  0.480095  0.636128   81.830144  36.80975   45.020394   -53.373119\n",
              "8  0.007873  0.365127 -1.739471   24.433563  36.80975  -12.376187   -53.373119\n",
              "9  1.490654  1.789460 -0.426105  189.369978  36.80975  152.560228   124.537278"
            ]
          },
          "metadata": {
            "tags": []
          },
          "execution_count": 21
        }
      ]
    },
    {
      "cell_type": "code",
      "metadata": {
        "id": "IHhhDAp7op-b"
      },
      "source": [
        "from sklearn.tree import plot_tree"
      ],
      "execution_count": null,
      "outputs": []
    },
    {
      "cell_type": "code",
      "metadata": {
        "id": "LOIJaMcmo18b",
        "colab": {
          "base_uri": "https://localhost:8080/",
          "height": 299
        },
        "outputId": "360edfb1-a1fb-46e0-f657-01ccbf1e4bce"
      },
      "source": [
        "plot_tree(tree_1)"
      ],
      "execution_count": null,
      "outputs": [
        {
          "output_type": "execute_result",
          "data": {
            "text/plain": [
              "[Text(167.4, 163.07999999999998, 'X[1] <= 1.318\\nmse = 11024.245\\nsamples = 10\\nvalue = 0.0'),\n",
              " Text(83.7, 54.360000000000014, 'mse = 5626.048\\nsamples = 7\\nvalue = -53.373'),\n",
              " Text(251.10000000000002, 54.360000000000014, 'mse = 1463.561\\nsamples = 3\\nvalue = 124.537')]"
            ]
          },
          "metadata": {
            "tags": []
          },
          "execution_count": 23
        },
        {
          "output_type": "display_data",
          "data": {
            "image/png": "[encoded data removed]",
            "text/plain": [
              "<Figure size 432x288 with 1 Axes>"
            ]
          },
          "metadata": {
            "tags": [],
            "needs_background": "light"
          }
        }
      ]
    },
    {
      "cell_type": "code",
      "metadata": {
        "id": "A0Q5PMVKpeal"
      },
      "source": [
        "nu = 0.1"
      ],
      "execution_count": null,
      "outputs": []
    },
    {
      "cell_type": "code",
      "metadata": {
        "id": "HknTKxWdo3_A"
      },
      "source": [
        "df['y_pred_1'] = df['y_pred_0'] + nu*df['tree_pred_1']"
      ],
      "execution_count": null,
      "outputs": []
    },
    {
      "cell_type": "code",
      "metadata": {
        "id": "nbjTVYvNpj4B",
        "colab": {
          "base_uri": "https://localhost:8080/",
          "height": 359
        },
        "outputId": "ac78d2e9-7870-4f0c-c03b-227d3f9a8468"
      },
      "source": [
        "df"
      ],
      "execution_count": null,
      "outputs": [
        {
          "output_type": "execute_result",
          "data": {
            "text/html": [
              "<div>\n",
              "<style scoped>\n",
              "    .dataframe tbody tr th:only-of-type {\n",
              "        vertical-align: middle;\n",
              "    }\n",
              "\n",
              "    .dataframe tbody tr th {\n",
              "        vertical-align: top;\n",
              "    }\n",
              "\n",
              "    .dataframe thead th {\n",
              "        text-align: right;\n",
              "    }\n",
              "</style>\n",
              "<table border=\"1\" class=\"dataframe\">\n",
              "  <thead>\n",
              "    <tr style=\"text-align: right;\">\n",
              "      <th></th>\n",
              "      <th>0</th>\n",
              "      <th>1</th>\n",
              "      <th>2</th>\n",
              "      <th>y_true</th>\n",
              "      <th>y_pred_0</th>\n",
              "      <th>residual_0</th>\n",
              "      <th>tree_pred_1</th>\n",
              "      <th>y_pred_1</th>\n",
              "    </tr>\n",
              "  </thead>\n",
              "  <tbody>\n",
              "    <tr>\n",
              "      <th>0</th>\n",
              "      <td>-1.318384</td>\n",
              "      <td>-1.519073</td>\n",
              "      <td>0.084940</td>\n",
              "      <td>-163.278390</td>\n",
              "      <td>36.80975</td>\n",
              "      <td>-200.088140</td>\n",
              "      <td>-53.373119</td>\n",
              "      <td>31.472438</td>\n",
              "    </tr>\n",
              "    <tr>\n",
              "      <th>1</th>\n",
              "      <td>-2.065591</td>\n",
              "      <td>1.000650</td>\n",
              "      <td>-0.426465</td>\n",
              "      <td>-18.128638</td>\n",
              "      <td>36.80975</td>\n",
              "      <td>-54.938388</td>\n",
              "      <td>-53.373119</td>\n",
              "      <td>31.472438</td>\n",
              "    </tr>\n",
              "    <tr>\n",
              "      <th>2</th>\n",
              "      <td>-0.476208</td>\n",
              "      <td>-0.649732</td>\n",
              "      <td>-0.651561</td>\n",
              "      <td>-66.735978</td>\n",
              "      <td>36.80975</td>\n",
              "      <td>-103.545728</td>\n",
              "      <td>-53.373119</td>\n",
              "      <td>31.472438</td>\n",
              "    </tr>\n",
              "    <tr>\n",
              "      <th>3</th>\n",
              "      <td>-0.228960</td>\n",
              "      <td>1.634563</td>\n",
              "      <td>1.983404</td>\n",
              "      <td>107.255911</td>\n",
              "      <td>36.80975</td>\n",
              "      <td>70.446161</td>\n",
              "      <td>124.537278</td>\n",
              "      <td>49.263478</td>\n",
              "    </tr>\n",
              "    <tr>\n",
              "      <th>4</th>\n",
              "      <td>1.121137</td>\n",
              "      <td>1.982466</td>\n",
              "      <td>-0.180353</td>\n",
              "      <td>187.415196</td>\n",
              "      <td>36.80975</td>\n",
              "      <td>150.605446</td>\n",
              "      <td>124.537278</td>\n",
              "      <td>49.263478</td>\n",
              "    </tr>\n",
              "    <tr>\n",
              "      <th>5</th>\n",
              "      <td>1.217412</td>\n",
              "      <td>-0.089147</td>\n",
              "      <td>0.686526</td>\n",
              "      <td>46.367576</td>\n",
              "      <td>36.80975</td>\n",
              "      <td>9.557826</td>\n",
              "      <td>-53.373119</td>\n",
              "      <td>31.472438</td>\n",
              "    </tr>\n",
              "    <tr>\n",
              "      <th>6</th>\n",
              "      <td>0.995759</td>\n",
              "      <td>-0.884474</td>\n",
              "      <td>-0.688613</td>\n",
              "      <td>-20.431862</td>\n",
              "      <td>36.80975</td>\n",
              "      <td>-57.241612</td>\n",
              "      <td>-53.373119</td>\n",
              "      <td>31.472438</td>\n",
              "    </tr>\n",
              "    <tr>\n",
              "      <th>7</th>\n",
              "      <td>1.109706</td>\n",
              "      <td>0.480095</td>\n",
              "      <td>0.636128</td>\n",
              "      <td>81.830144</td>\n",
              "      <td>36.80975</td>\n",
              "      <td>45.020394</td>\n",
              "      <td>-53.373119</td>\n",
              "      <td>31.472438</td>\n",
              "    </tr>\n",
              "    <tr>\n",
              "      <th>8</th>\n",
              "      <td>0.007873</td>\n",
              "      <td>0.365127</td>\n",
              "      <td>-1.739471</td>\n",
              "      <td>24.433563</td>\n",
              "      <td>36.80975</td>\n",
              "      <td>-12.376187</td>\n",
              "      <td>-53.373119</td>\n",
              "      <td>31.472438</td>\n",
              "    </tr>\n",
              "    <tr>\n",
              "      <th>9</th>\n",
              "      <td>1.490654</td>\n",
              "      <td>1.789460</td>\n",
              "      <td>-0.426105</td>\n",
              "      <td>189.369978</td>\n",
              "      <td>36.80975</td>\n",
              "      <td>152.560228</td>\n",
              "      <td>124.537278</td>\n",
              "      <td>49.263478</td>\n",
              "    </tr>\n",
              "  </tbody>\n",
              "</table>\n",
              "</div>"
            ],
            "text/plain": [
              "          0         1         2  ...  residual_0  tree_pred_1   y_pred_1\n",
              "0 -1.318384 -1.519073  0.084940  ... -200.088140   -53.373119  31.472438\n",
              "1 -2.065591  1.000650 -0.426465  ...  -54.938388   -53.373119  31.472438\n",
              "2 -0.476208 -0.649732 -0.651561  ... -103.545728   -53.373119  31.472438\n",
              "3 -0.228960  1.634563  1.983404  ...   70.446161   124.537278  49.263478\n",
              "4  1.121137  1.982466 -0.180353  ...  150.605446   124.537278  49.263478\n",
              "5  1.217412 -0.089147  0.686526  ...    9.557826   -53.373119  31.472438\n",
              "6  0.995759 -0.884474 -0.688613  ...  -57.241612   -53.373119  31.472438\n",
              "7  1.109706  0.480095  0.636128  ...   45.020394   -53.373119  31.472438\n",
              "8  0.007873  0.365127 -1.739471  ...  -12.376187   -53.373119  31.472438\n",
              "9  1.490654  1.789460 -0.426105  ...  152.560228   124.537278  49.263478\n",
              "\n",
              "[10 rows x 8 columns]"
            ]
          },
          "metadata": {
            "tags": []
          },
          "execution_count": 26
        }
      ]
    },
    {
      "cell_type": "code",
      "metadata": {
        "id": "BNxz3EgMpkiX",
        "colab": {
          "base_uri": "https://localhost:8080/",
          "height": 34
        },
        "outputId": "54a0bd5c-31ee-4fe6-b7cf-dd5c86ff00cf"
      },
      "source": [
        "mean_absolute_error(df['y_true'],df['y_pred_0'])"
      ],
      "execution_count": null,
      "outputs": [
        {
          "output_type": "execute_result",
          "data": {
            "text/plain": [
              "85.63801097313119"
            ]
          },
          "metadata": {
            "tags": []
          },
          "execution_count": 27
        }
      ]
    },
    {
      "cell_type": "code",
      "metadata": {
        "id": "rjwUvEiOpqkY",
        "colab": {
          "base_uri": "https://localhost:8080/",
          "height": 34
        },
        "outputId": "11f45cd0-d18d-490b-c2d7-d444cf76e930"
      },
      "source": [
        "mean_absolute_error(df['y_true'],df['y_pred_1'])"
      ],
      "execution_count": null,
      "outputs": [
        {
          "output_type": "execute_result",
          "data": {
            "text/plain": [
              "80.30069905075203"
            ]
          },
          "metadata": {
            "tags": []
          },
          "execution_count": 28
        }
      ]
    },
    {
      "cell_type": "code",
      "metadata": {
        "id": "Dv5bNd3rpsaw",
        "colab": {
          "base_uri": "https://localhost:8080/",
          "height": 359
        },
        "outputId": "ffb31a56-e28c-4776-c0a7-01595cbce49f"
      },
      "source": [
        "df"
      ],
      "execution_count": null,
      "outputs": [
        {
          "output_type": "execute_result",
          "data": {
            "text/html": [
              "<div>\n",
              "<style scoped>\n",
              "    .dataframe tbody tr th:only-of-type {\n",
              "        vertical-align: middle;\n",
              "    }\n",
              "\n",
              "    .dataframe tbody tr th {\n",
              "        vertical-align: top;\n",
              "    }\n",
              "\n",
              "    .dataframe thead th {\n",
              "        text-align: right;\n",
              "    }\n",
              "</style>\n",
              "<table border=\"1\" class=\"dataframe\">\n",
              "  <thead>\n",
              "    <tr style=\"text-align: right;\">\n",
              "      <th></th>\n",
              "      <th>0</th>\n",
              "      <th>1</th>\n",
              "      <th>2</th>\n",
              "      <th>y_true</th>\n",
              "      <th>y_pred_0</th>\n",
              "      <th>residual_0</th>\n",
              "      <th>tree_pred_1</th>\n",
              "      <th>y_pred_1</th>\n",
              "    </tr>\n",
              "  </thead>\n",
              "  <tbody>\n",
              "    <tr>\n",
              "      <th>0</th>\n",
              "      <td>-1.318384</td>\n",
              "      <td>-1.519073</td>\n",
              "      <td>0.084940</td>\n",
              "      <td>-163.278390</td>\n",
              "      <td>36.80975</td>\n",
              "      <td>-200.088140</td>\n",
              "      <td>-53.373119</td>\n",
              "      <td>31.472438</td>\n",
              "    </tr>\n",
              "    <tr>\n",
              "      <th>1</th>\n",
              "      <td>-2.065591</td>\n",
              "      <td>1.000650</td>\n",
              "      <td>-0.426465</td>\n",
              "      <td>-18.128638</td>\n",
              "      <td>36.80975</td>\n",
              "      <td>-54.938388</td>\n",
              "      <td>-53.373119</td>\n",
              "      <td>31.472438</td>\n",
              "    </tr>\n",
              "    <tr>\n",
              "      <th>2</th>\n",
              "      <td>-0.476208</td>\n",
              "      <td>-0.649732</td>\n",
              "      <td>-0.651561</td>\n",
              "      <td>-66.735978</td>\n",
              "      <td>36.80975</td>\n",
              "      <td>-103.545728</td>\n",
              "      <td>-53.373119</td>\n",
              "      <td>31.472438</td>\n",
              "    </tr>\n",
              "    <tr>\n",
              "      <th>3</th>\n",
              "      <td>-0.228960</td>\n",
              "      <td>1.634563</td>\n",
              "      <td>1.983404</td>\n",
              "      <td>107.255911</td>\n",
              "      <td>36.80975</td>\n",
              "      <td>70.446161</td>\n",
              "      <td>124.537278</td>\n",
              "      <td>49.263478</td>\n",
              "    </tr>\n",
              "    <tr>\n",
              "      <th>4</th>\n",
              "      <td>1.121137</td>\n",
              "      <td>1.982466</td>\n",
              "      <td>-0.180353</td>\n",
              "      <td>187.415196</td>\n",
              "      <td>36.80975</td>\n",
              "      <td>150.605446</td>\n",
              "      <td>124.537278</td>\n",
              "      <td>49.263478</td>\n",
              "    </tr>\n",
              "    <tr>\n",
              "      <th>5</th>\n",
              "      <td>1.217412</td>\n",
              "      <td>-0.089147</td>\n",
              "      <td>0.686526</td>\n",
              "      <td>46.367576</td>\n",
              "      <td>36.80975</td>\n",
              "      <td>9.557826</td>\n",
              "      <td>-53.373119</td>\n",
              "      <td>31.472438</td>\n",
              "    </tr>\n",
              "    <tr>\n",
              "      <th>6</th>\n",
              "      <td>0.995759</td>\n",
              "      <td>-0.884474</td>\n",
              "      <td>-0.688613</td>\n",
              "      <td>-20.431862</td>\n",
              "      <td>36.80975</td>\n",
              "      <td>-57.241612</td>\n",
              "      <td>-53.373119</td>\n",
              "      <td>31.472438</td>\n",
              "    </tr>\n",
              "    <tr>\n",
              "      <th>7</th>\n",
              "      <td>1.109706</td>\n",
              "      <td>0.480095</td>\n",
              "      <td>0.636128</td>\n",
              "      <td>81.830144</td>\n",
              "      <td>36.80975</td>\n",
              "      <td>45.020394</td>\n",
              "      <td>-53.373119</td>\n",
              "      <td>31.472438</td>\n",
              "    </tr>\n",
              "    <tr>\n",
              "      <th>8</th>\n",
              "      <td>0.007873</td>\n",
              "      <td>0.365127</td>\n",
              "      <td>-1.739471</td>\n",
              "      <td>24.433563</td>\n",
              "      <td>36.80975</td>\n",
              "      <td>-12.376187</td>\n",
              "      <td>-53.373119</td>\n",
              "      <td>31.472438</td>\n",
              "    </tr>\n",
              "    <tr>\n",
              "      <th>9</th>\n",
              "      <td>1.490654</td>\n",
              "      <td>1.789460</td>\n",
              "      <td>-0.426105</td>\n",
              "      <td>189.369978</td>\n",
              "      <td>36.80975</td>\n",
              "      <td>152.560228</td>\n",
              "      <td>124.537278</td>\n",
              "      <td>49.263478</td>\n",
              "    </tr>\n",
              "  </tbody>\n",
              "</table>\n",
              "</div>"
            ],
            "text/plain": [
              "          0         1         2  ...  residual_0  tree_pred_1   y_pred_1\n",
              "0 -1.318384 -1.519073  0.084940  ... -200.088140   -53.373119  31.472438\n",
              "1 -2.065591  1.000650 -0.426465  ...  -54.938388   -53.373119  31.472438\n",
              "2 -0.476208 -0.649732 -0.651561  ... -103.545728   -53.373119  31.472438\n",
              "3 -0.228960  1.634563  1.983404  ...   70.446161   124.537278  49.263478\n",
              "4  1.121137  1.982466 -0.180353  ...  150.605446   124.537278  49.263478\n",
              "5  1.217412 -0.089147  0.686526  ...    9.557826   -53.373119  31.472438\n",
              "6  0.995759 -0.884474 -0.688613  ...  -57.241612   -53.373119  31.472438\n",
              "7  1.109706  0.480095  0.636128  ...   45.020394   -53.373119  31.472438\n",
              "8  0.007873  0.365127 -1.739471  ...  -12.376187   -53.373119  31.472438\n",
              "9  1.490654  1.789460 -0.426105  ...  152.560228   124.537278  49.263478\n",
              "\n",
              "[10 rows x 8 columns]"
            ]
          },
          "metadata": {
            "tags": []
          },
          "execution_count": 29
        }
      ]
    },
    {
      "cell_type": "code",
      "metadata": {
        "id": "h75bz0WApxjF"
      },
      "source": [
        "df['residual_1'] = df['y_true'] - df['y_pred_1']"
      ],
      "execution_count": null,
      "outputs": []
    },
    {
      "cell_type": "code",
      "metadata": {
        "id": "zpo1ssBxp5Cl",
        "colab": {
          "base_uri": "https://localhost:8080/",
          "height": 359
        },
        "outputId": "9753b2fe-5c7c-4b13-8867-d7e9c65c58f0"
      },
      "source": [
        "df"
      ],
      "execution_count": null,
      "outputs": [
        {
          "output_type": "execute_result",
          "data": {
            "text/html": [
              "<div>\n",
              "<style scoped>\n",
              "    .dataframe tbody tr th:only-of-type {\n",
              "        vertical-align: middle;\n",
              "    }\n",
              "\n",
              "    .dataframe tbody tr th {\n",
              "        vertical-align: top;\n",
              "    }\n",
              "\n",
              "    .dataframe thead th {\n",
              "        text-align: right;\n",
              "    }\n",
              "</style>\n",
              "<table border=\"1\" class=\"dataframe\">\n",
              "  <thead>\n",
              "    <tr style=\"text-align: right;\">\n",
              "      <th></th>\n",
              "      <th>0</th>\n",
              "      <th>1</th>\n",
              "      <th>2</th>\n",
              "      <th>y_true</th>\n",
              "      <th>y_pred_0</th>\n",
              "      <th>residual_0</th>\n",
              "      <th>tree_pred_1</th>\n",
              "      <th>y_pred_1</th>\n",
              "      <th>residual_1</th>\n",
              "    </tr>\n",
              "  </thead>\n",
              "  <tbody>\n",
              "    <tr>\n",
              "      <th>0</th>\n",
              "      <td>-1.318384</td>\n",
              "      <td>-1.519073</td>\n",
              "      <td>0.084940</td>\n",
              "      <td>-163.278390</td>\n",
              "      <td>36.80975</td>\n",
              "      <td>-200.088140</td>\n",
              "      <td>-53.373119</td>\n",
              "      <td>31.472438</td>\n",
              "      <td>-194.750828</td>\n",
              "    </tr>\n",
              "    <tr>\n",
              "      <th>1</th>\n",
              "      <td>-2.065591</td>\n",
              "      <td>1.000650</td>\n",
              "      <td>-0.426465</td>\n",
              "      <td>-18.128638</td>\n",
              "      <td>36.80975</td>\n",
              "      <td>-54.938388</td>\n",
              "      <td>-53.373119</td>\n",
              "      <td>31.472438</td>\n",
              "      <td>-49.601076</td>\n",
              "    </tr>\n",
              "    <tr>\n",
              "      <th>2</th>\n",
              "      <td>-0.476208</td>\n",
              "      <td>-0.649732</td>\n",
              "      <td>-0.651561</td>\n",
              "      <td>-66.735978</td>\n",
              "      <td>36.80975</td>\n",
              "      <td>-103.545728</td>\n",
              "      <td>-53.373119</td>\n",
              "      <td>31.472438</td>\n",
              "      <td>-98.208416</td>\n",
              "    </tr>\n",
              "    <tr>\n",
              "      <th>3</th>\n",
              "      <td>-0.228960</td>\n",
              "      <td>1.634563</td>\n",
              "      <td>1.983404</td>\n",
              "      <td>107.255911</td>\n",
              "      <td>36.80975</td>\n",
              "      <td>70.446161</td>\n",
              "      <td>124.537278</td>\n",
              "      <td>49.263478</td>\n",
              "      <td>57.992433</td>\n",
              "    </tr>\n",
              "    <tr>\n",
              "      <th>4</th>\n",
              "      <td>1.121137</td>\n",
              "      <td>1.982466</td>\n",
              "      <td>-0.180353</td>\n",
              "      <td>187.415196</td>\n",
              "      <td>36.80975</td>\n",
              "      <td>150.605446</td>\n",
              "      <td>124.537278</td>\n",
              "      <td>49.263478</td>\n",
              "      <td>138.151718</td>\n",
              "    </tr>\n",
              "    <tr>\n",
              "      <th>5</th>\n",
              "      <td>1.217412</td>\n",
              "      <td>-0.089147</td>\n",
              "      <td>0.686526</td>\n",
              "      <td>46.367576</td>\n",
              "      <td>36.80975</td>\n",
              "      <td>9.557826</td>\n",
              "      <td>-53.373119</td>\n",
              "      <td>31.472438</td>\n",
              "      <td>14.895138</td>\n",
              "    </tr>\n",
              "    <tr>\n",
              "      <th>6</th>\n",
              "      <td>0.995759</td>\n",
              "      <td>-0.884474</td>\n",
              "      <td>-0.688613</td>\n",
              "      <td>-20.431862</td>\n",
              "      <td>36.80975</td>\n",
              "      <td>-57.241612</td>\n",
              "      <td>-53.373119</td>\n",
              "      <td>31.472438</td>\n",
              "      <td>-51.904300</td>\n",
              "    </tr>\n",
              "    <tr>\n",
              "      <th>7</th>\n",
              "      <td>1.109706</td>\n",
              "      <td>0.480095</td>\n",
              "      <td>0.636128</td>\n",
              "      <td>81.830144</td>\n",
              "      <td>36.80975</td>\n",
              "      <td>45.020394</td>\n",
              "      <td>-53.373119</td>\n",
              "      <td>31.472438</td>\n",
              "      <td>50.357706</td>\n",
              "    </tr>\n",
              "    <tr>\n",
              "      <th>8</th>\n",
              "      <td>0.007873</td>\n",
              "      <td>0.365127</td>\n",
              "      <td>-1.739471</td>\n",
              "      <td>24.433563</td>\n",
              "      <td>36.80975</td>\n",
              "      <td>-12.376187</td>\n",
              "      <td>-53.373119</td>\n",
              "      <td>31.472438</td>\n",
              "      <td>-7.038875</td>\n",
              "    </tr>\n",
              "    <tr>\n",
              "      <th>9</th>\n",
              "      <td>1.490654</td>\n",
              "      <td>1.789460</td>\n",
              "      <td>-0.426105</td>\n",
              "      <td>189.369978</td>\n",
              "      <td>36.80975</td>\n",
              "      <td>152.560228</td>\n",
              "      <td>124.537278</td>\n",
              "      <td>49.263478</td>\n",
              "      <td>140.106500</td>\n",
              "    </tr>\n",
              "  </tbody>\n",
              "</table>\n",
              "</div>"
            ],
            "text/plain": [
              "          0         1         2  ...  tree_pred_1   y_pred_1  residual_1\n",
              "0 -1.318384 -1.519073  0.084940  ...   -53.373119  31.472438 -194.750828\n",
              "1 -2.065591  1.000650 -0.426465  ...   -53.373119  31.472438  -49.601076\n",
              "2 -0.476208 -0.649732 -0.651561  ...   -53.373119  31.472438  -98.208416\n",
              "3 -0.228960  1.634563  1.983404  ...   124.537278  49.263478   57.992433\n",
              "4  1.121137  1.982466 -0.180353  ...   124.537278  49.263478  138.151718\n",
              "5  1.217412 -0.089147  0.686526  ...   -53.373119  31.472438   14.895138\n",
              "6  0.995759 -0.884474 -0.688613  ...   -53.373119  31.472438  -51.904300\n",
              "7  1.109706  0.480095  0.636128  ...   -53.373119  31.472438   50.357706\n",
              "8  0.007873  0.365127 -1.739471  ...   -53.373119  31.472438   -7.038875\n",
              "9  1.490654  1.789460 -0.426105  ...   124.537278  49.263478  140.106500\n",
              "\n",
              "[10 rows x 9 columns]"
            ]
          },
          "metadata": {
            "tags": []
          },
          "execution_count": 31
        }
      ]
    },
    {
      "cell_type": "code",
      "metadata": {
        "id": "Q74Hsekmp6HF"
      },
      "source": [
        "tree_2 = DecisionTreeRegressor(max_depth=1)"
      ],
      "execution_count": null,
      "outputs": []
    },
    {
      "cell_type": "code",
      "metadata": {
        "id": "NO-AimynqDMC",
        "colab": {
          "base_uri": "https://localhost:8080/",
          "height": 119
        },
        "outputId": "4f43dea5-d78a-4f4b-ece1-59d9d22333c8"
      },
      "source": [
        "tree_2.fit(df[[0,1,2]],df['residual_1'])"
      ],
      "execution_count": null,
      "outputs": [
        {
          "output_type": "execute_result",
          "data": {
            "text/plain": [
              "DecisionTreeRegressor(ccp_alpha=0.0, criterion='mse', max_depth=1,\n",
              "                      max_features=None, max_leaf_nodes=None,\n",
              "                      min_impurity_decrease=0.0, min_impurity_split=None,\n",
              "                      min_samples_leaf=1, min_samples_split=2,\n",
              "                      min_weight_fraction_leaf=0.0, presort='deprecated',\n",
              "                      random_state=None, splitter='best')"
            ]
          },
          "metadata": {
            "tags": []
          },
          "execution_count": 33
        }
      ]
    },
    {
      "cell_type": "code",
      "metadata": {
        "id": "jELBLlvHqJEy"
      },
      "source": [
        "df['y_pred_2'] = df['y_pred_1'] + nu * tree_2.predict(df[[0,1,2]])"
      ],
      "execution_count": null,
      "outputs": []
    },
    {
      "cell_type": "code",
      "metadata": {
        "id": "l2nCSUF6qXMp",
        "colab": {
          "base_uri": "https://localhost:8080/",
          "height": 359
        },
        "outputId": "0321204f-23e7-408e-afa3-3b11d809ba34"
      },
      "source": [
        "df"
      ],
      "execution_count": null,
      "outputs": [
        {
          "output_type": "execute_result",
          "data": {
            "text/html": [
              "<div>\n",
              "<style scoped>\n",
              "    .dataframe tbody tr th:only-of-type {\n",
              "        vertical-align: middle;\n",
              "    }\n",
              "\n",
              "    .dataframe tbody tr th {\n",
              "        vertical-align: top;\n",
              "    }\n",
              "\n",
              "    .dataframe thead th {\n",
              "        text-align: right;\n",
              "    }\n",
              "</style>\n",
              "<table border=\"1\" class=\"dataframe\">\n",
              "  <thead>\n",
              "    <tr style=\"text-align: right;\">\n",
              "      <th></th>\n",
              "      <th>0</th>\n",
              "      <th>1</th>\n",
              "      <th>2</th>\n",
              "      <th>y_true</th>\n",
              "      <th>y_pred_0</th>\n",
              "      <th>residual_0</th>\n",
              "      <th>tree_pred_1</th>\n",
              "      <th>y_pred_1</th>\n",
              "      <th>residual_1</th>\n",
              "      <th>y_pred_2</th>\n",
              "    </tr>\n",
              "  </thead>\n",
              "  <tbody>\n",
              "    <tr>\n",
              "      <th>0</th>\n",
              "      <td>-1.318384</td>\n",
              "      <td>-1.519073</td>\n",
              "      <td>0.084940</td>\n",
              "      <td>-163.278390</td>\n",
              "      <td>36.80975</td>\n",
              "      <td>-200.088140</td>\n",
              "      <td>-53.373119</td>\n",
              "      <td>31.472438</td>\n",
              "      <td>-194.750828</td>\n",
              "      <td>19.976987</td>\n",
              "    </tr>\n",
              "    <tr>\n",
              "      <th>1</th>\n",
              "      <td>-2.065591</td>\n",
              "      <td>1.000650</td>\n",
              "      <td>-0.426465</td>\n",
              "      <td>-18.128638</td>\n",
              "      <td>36.80975</td>\n",
              "      <td>-54.938388</td>\n",
              "      <td>-53.373119</td>\n",
              "      <td>31.472438</td>\n",
              "      <td>-49.601076</td>\n",
              "      <td>36.399060</td>\n",
              "    </tr>\n",
              "    <tr>\n",
              "      <th>2</th>\n",
              "      <td>-0.476208</td>\n",
              "      <td>-0.649732</td>\n",
              "      <td>-0.651561</td>\n",
              "      <td>-66.735978</td>\n",
              "      <td>36.80975</td>\n",
              "      <td>-103.545728</td>\n",
              "      <td>-53.373119</td>\n",
              "      <td>31.472438</td>\n",
              "      <td>-98.208416</td>\n",
              "      <td>19.976987</td>\n",
              "    </tr>\n",
              "    <tr>\n",
              "      <th>3</th>\n",
              "      <td>-0.228960</td>\n",
              "      <td>1.634563</td>\n",
              "      <td>1.983404</td>\n",
              "      <td>107.255911</td>\n",
              "      <td>36.80975</td>\n",
              "      <td>70.446161</td>\n",
              "      <td>124.537278</td>\n",
              "      <td>49.263478</td>\n",
              "      <td>57.992433</td>\n",
              "      <td>54.190100</td>\n",
              "    </tr>\n",
              "    <tr>\n",
              "      <th>4</th>\n",
              "      <td>1.121137</td>\n",
              "      <td>1.982466</td>\n",
              "      <td>-0.180353</td>\n",
              "      <td>187.415196</td>\n",
              "      <td>36.80975</td>\n",
              "      <td>150.605446</td>\n",
              "      <td>124.537278</td>\n",
              "      <td>49.263478</td>\n",
              "      <td>138.151718</td>\n",
              "      <td>54.190100</td>\n",
              "    </tr>\n",
              "    <tr>\n",
              "      <th>5</th>\n",
              "      <td>1.217412</td>\n",
              "      <td>-0.089147</td>\n",
              "      <td>0.686526</td>\n",
              "      <td>46.367576</td>\n",
              "      <td>36.80975</td>\n",
              "      <td>9.557826</td>\n",
              "      <td>-53.373119</td>\n",
              "      <td>31.472438</td>\n",
              "      <td>14.895138</td>\n",
              "      <td>36.399060</td>\n",
              "    </tr>\n",
              "    <tr>\n",
              "      <th>6</th>\n",
              "      <td>0.995759</td>\n",
              "      <td>-0.884474</td>\n",
              "      <td>-0.688613</td>\n",
              "      <td>-20.431862</td>\n",
              "      <td>36.80975</td>\n",
              "      <td>-57.241612</td>\n",
              "      <td>-53.373119</td>\n",
              "      <td>31.472438</td>\n",
              "      <td>-51.904300</td>\n",
              "      <td>19.976987</td>\n",
              "    </tr>\n",
              "    <tr>\n",
              "      <th>7</th>\n",
              "      <td>1.109706</td>\n",
              "      <td>0.480095</td>\n",
              "      <td>0.636128</td>\n",
              "      <td>81.830144</td>\n",
              "      <td>36.80975</td>\n",
              "      <td>45.020394</td>\n",
              "      <td>-53.373119</td>\n",
              "      <td>31.472438</td>\n",
              "      <td>50.357706</td>\n",
              "      <td>36.399060</td>\n",
              "    </tr>\n",
              "    <tr>\n",
              "      <th>8</th>\n",
              "      <td>0.007873</td>\n",
              "      <td>0.365127</td>\n",
              "      <td>-1.739471</td>\n",
              "      <td>24.433563</td>\n",
              "      <td>36.80975</td>\n",
              "      <td>-12.376187</td>\n",
              "      <td>-53.373119</td>\n",
              "      <td>31.472438</td>\n",
              "      <td>-7.038875</td>\n",
              "      <td>36.399060</td>\n",
              "    </tr>\n",
              "    <tr>\n",
              "      <th>9</th>\n",
              "      <td>1.490654</td>\n",
              "      <td>1.789460</td>\n",
              "      <td>-0.426105</td>\n",
              "      <td>189.369978</td>\n",
              "      <td>36.80975</td>\n",
              "      <td>152.560228</td>\n",
              "      <td>124.537278</td>\n",
              "      <td>49.263478</td>\n",
              "      <td>140.106500</td>\n",
              "      <td>54.190100</td>\n",
              "    </tr>\n",
              "  </tbody>\n",
              "</table>\n",
              "</div>"
            ],
            "text/plain": [
              "          0         1         2  ...   y_pred_1  residual_1   y_pred_2\n",
              "0 -1.318384 -1.519073  0.084940  ...  31.472438 -194.750828  19.976987\n",
              "1 -2.065591  1.000650 -0.426465  ...  31.472438  -49.601076  36.399060\n",
              "2 -0.476208 -0.649732 -0.651561  ...  31.472438  -98.208416  19.976987\n",
              "3 -0.228960  1.634563  1.983404  ...  49.263478   57.992433  54.190100\n",
              "4  1.121137  1.982466 -0.180353  ...  49.263478  138.151718  54.190100\n",
              "5  1.217412 -0.089147  0.686526  ...  31.472438   14.895138  36.399060\n",
              "6  0.995759 -0.884474 -0.688613  ...  31.472438  -51.904300  19.976987\n",
              "7  1.109706  0.480095  0.636128  ...  31.472438   50.357706  36.399060\n",
              "8  0.007873  0.365127 -1.739471  ...  31.472438   -7.038875  36.399060\n",
              "9  1.490654  1.789460 -0.426105  ...  49.263478  140.106500  54.190100\n",
              "\n",
              "[10 rows x 10 columns]"
            ]
          },
          "metadata": {
            "tags": []
          },
          "execution_count": 35
        }
      ]
    },
    {
      "cell_type": "code",
      "metadata": {
        "id": "dyDkK43QqXsX",
        "colab": {
          "base_uri": "https://localhost:8080/",
          "height": 34
        },
        "outputId": "afbedd6d-e749-4078-fb04-f78c4ef57745"
      },
      "source": [
        "mean_absolute_error(df['y_true'],df['y_pred_1'])"
      ],
      "execution_count": null,
      "outputs": [
        {
          "output_type": "execute_result",
          "data": {
            "text/plain": [
              "80.30069905075203"
            ]
          },
          "metadata": {
            "tags": []
          },
          "execution_count": 36
        }
      ]
    },
    {
      "cell_type": "code",
      "metadata": {
        "id": "ZUOF_kObqbW4",
        "colab": {
          "base_uri": "https://localhost:8080/",
          "height": 34
        },
        "outputId": "13308a6a-1b4b-48d6-cf59-b632fa470d6a"
      },
      "source": [
        "mean_absolute_error(df['y_true'],df['y_pred_2'])"
      ],
      "execution_count": null,
      "outputs": [
        {
          "output_type": "execute_result",
          "data": {
            "text/plain": [
              "75.37407699138947"
            ]
          },
          "metadata": {
            "tags": []
          },
          "execution_count": 37
        }
      ]
    },
    {
      "cell_type": "code",
      "metadata": {
        "id": "BKy0ocjzqc3J"
      },
      "source": [
        "df = df[[0,1,2,'y_true']].copy()"
      ],
      "execution_count": null,
      "outputs": []
    },
    {
      "cell_type": "code",
      "metadata": {
        "id": "L1ZUkOM6qkeH",
        "colab": {
          "base_uri": "https://localhost:8080/",
          "height": 359
        },
        "outputId": "a2234e0e-b3f8-4db2-c6ef-0eeb4d77ed93"
      },
      "source": [
        "df"
      ],
      "execution_count": null,
      "outputs": [
        {
          "output_type": "execute_result",
          "data": {
            "text/html": [
              "<div>\n",
              "<style scoped>\n",
              "    .dataframe tbody tr th:only-of-type {\n",
              "        vertical-align: middle;\n",
              "    }\n",
              "\n",
              "    .dataframe tbody tr th {\n",
              "        vertical-align: top;\n",
              "    }\n",
              "\n",
              "    .dataframe thead th {\n",
              "        text-align: right;\n",
              "    }\n",
              "</style>\n",
              "<table border=\"1\" class=\"dataframe\">\n",
              "  <thead>\n",
              "    <tr style=\"text-align: right;\">\n",
              "      <th></th>\n",
              "      <th>0</th>\n",
              "      <th>1</th>\n",
              "      <th>2</th>\n",
              "      <th>y_true</th>\n",
              "    </tr>\n",
              "  </thead>\n",
              "  <tbody>\n",
              "    <tr>\n",
              "      <th>0</th>\n",
              "      <td>-1.318384</td>\n",
              "      <td>-1.519073</td>\n",
              "      <td>0.084940</td>\n",
              "      <td>-163.278390</td>\n",
              "    </tr>\n",
              "    <tr>\n",
              "      <th>1</th>\n",
              "      <td>-2.065591</td>\n",
              "      <td>1.000650</td>\n",
              "      <td>-0.426465</td>\n",
              "      <td>-18.128638</td>\n",
              "    </tr>\n",
              "    <tr>\n",
              "      <th>2</th>\n",
              "      <td>-0.476208</td>\n",
              "      <td>-0.649732</td>\n",
              "      <td>-0.651561</td>\n",
              "      <td>-66.735978</td>\n",
              "    </tr>\n",
              "    <tr>\n",
              "      <th>3</th>\n",
              "      <td>-0.228960</td>\n",
              "      <td>1.634563</td>\n",
              "      <td>1.983404</td>\n",
              "      <td>107.255911</td>\n",
              "    </tr>\n",
              "    <tr>\n",
              "      <th>4</th>\n",
              "      <td>1.121137</td>\n",
              "      <td>1.982466</td>\n",
              "      <td>-0.180353</td>\n",
              "      <td>187.415196</td>\n",
              "    </tr>\n",
              "    <tr>\n",
              "      <th>5</th>\n",
              "      <td>1.217412</td>\n",
              "      <td>-0.089147</td>\n",
              "      <td>0.686526</td>\n",
              "      <td>46.367576</td>\n",
              "    </tr>\n",
              "    <tr>\n",
              "      <th>6</th>\n",
              "      <td>0.995759</td>\n",
              "      <td>-0.884474</td>\n",
              "      <td>-0.688613</td>\n",
              "      <td>-20.431862</td>\n",
              "    </tr>\n",
              "    <tr>\n",
              "      <th>7</th>\n",
              "      <td>1.109706</td>\n",
              "      <td>0.480095</td>\n",
              "      <td>0.636128</td>\n",
              "      <td>81.830144</td>\n",
              "    </tr>\n",
              "    <tr>\n",
              "      <th>8</th>\n",
              "      <td>0.007873</td>\n",
              "      <td>0.365127</td>\n",
              "      <td>-1.739471</td>\n",
              "      <td>24.433563</td>\n",
              "    </tr>\n",
              "    <tr>\n",
              "      <th>9</th>\n",
              "      <td>1.490654</td>\n",
              "      <td>1.789460</td>\n",
              "      <td>-0.426105</td>\n",
              "      <td>189.369978</td>\n",
              "    </tr>\n",
              "  </tbody>\n",
              "</table>\n",
              "</div>"
            ],
            "text/plain": [
              "          0         1         2      y_true\n",
              "0 -1.318384 -1.519073  0.084940 -163.278390\n",
              "1 -2.065591  1.000650 -0.426465  -18.128638\n",
              "2 -0.476208 -0.649732 -0.651561  -66.735978\n",
              "3 -0.228960  1.634563  1.983404  107.255911\n",
              "4  1.121137  1.982466 -0.180353  187.415196\n",
              "5  1.217412 -0.089147  0.686526   46.367576\n",
              "6  0.995759 -0.884474 -0.688613  -20.431862\n",
              "7  1.109706  0.480095  0.636128   81.830144\n",
              "8  0.007873  0.365127 -1.739471   24.433563\n",
              "9  1.490654  1.789460 -0.426105  189.369978"
            ]
          },
          "metadata": {
            "tags": []
          },
          "execution_count": 40
        }
      ]
    },
    {
      "cell_type": "code",
      "metadata": {
        "id": "3OmRWz8Aqr-k",
        "colab": {
          "base_uri": "https://localhost:8080/",
          "height": 187
        },
        "outputId": "46205216-1adc-48a3-e5f7-4c825431a1cd"
      },
      "source": [
        "n = 1000\n",
        "nu = 0.1\n",
        "trees = []\n",
        "df['y_pred'] = df['y_true'].mean()\n",
        "\n",
        "for i in range(n):\n",
        "  df['residual'] = df['y_true'] - df['y_pred']\n",
        "  tree = DecisionTreeRegressor(max_depth=1)\n",
        "  tree.fit(df[[0,1,2]],df['residual'])\n",
        "  df['y_pred'] += nu * tree.predict(df[[0,1,2]])\n",
        "  trees.append(tree)\n",
        "  print(mean_absolute_error(df['y_true'],df['y_pred']))"
      ],
      "execution_count": null,
      "outputs": [
        {
          "output_type": "stream",
          "text": [
            "80.30069905075203\n",
            "75.37407699138947\n",
            "70.73841928625117\n",
            "66.3446505460171\n",
            "62.34181523267951\n",
            "58.558973451326175\n",
            "54.94698000784932\n",
            "50.816404812729104\n",
            "48.31663400863107\n",
            "46.76259010035251\n"
          ],
          "name": "stdout"
        }
      ]
    },
    {
      "cell_type": "code",
      "metadata": {
        "id": "3w3ZRb4crlgY"
      },
      "source": [
        "test = df[[0,1,2]].copy()"
      ],
      "execution_count": null,
      "outputs": []
    },
    {
      "cell_type": "code",
      "metadata": {
        "id": "ySxXNz57r2iM"
      },
      "source": [
        "test['y_pred'] = df['y_true'].mean()"
      ],
      "execution_count": null,
      "outputs": []
    },
    {
      "cell_type": "code",
      "metadata": {
        "id": "altqHumisGOK"
      },
      "source": [
        "for tree in trees:\n",
        "  test['y_pred'] += nu * tree.predict(df[[0,1,2]])"
      ],
      "execution_count": null,
      "outputs": []
    },
    {
      "cell_type": "code",
      "metadata": {
        "id": "c3jIYJ3KsYlA"
      },
      "source": [
        "from sympy import *"
      ],
      "execution_count": null,
      "outputs": []
    },
    {
      "cell_type": "code",
      "metadata": {
        "id": "hhyzPAYct4j7"
      },
      "source": [
        "y_true = Symbol('y_true')\n",
        "y_pred = Symbol('y_pred')"
      ],
      "execution_count": null,
      "outputs": []
    },
    {
      "cell_type": "code",
      "metadata": {
        "id": "lwZaFEztuBNC",
        "colab": {
          "base_uri": "https://localhost:8080/",
          "height": 34
        },
        "outputId": "8d4a364d-8f4c-411b-b3c4-bc61dc1bbafb"
      },
      "source": [
        "1/2*(y_true-y_pred)**2"
      ],
      "execution_count": null,
      "outputs": [
        {
          "output_type": "execute_result",
          "data": {
            "text/plain": [
              "0.5*(-y_pred + y_true)**2"
            ]
          },
          "metadata": {
            "tags": []
          },
          "execution_count": 56
        }
      ]
    },
    {
      "cell_type": "code",
      "metadata": {
        "id": "6GnfKOFSuGDx",
        "colab": {
          "base_uri": "https://localhost:8080/",
          "height": 34
        },
        "outputId": "30bed8af-4e3f-4b82-9273-fc7a12292a72"
      },
      "source": [
        "diff(1/2*(y_true-y_pred)**2,y_pred)"
      ],
      "execution_count": null,
      "outputs": [
        {
          "output_type": "execute_result",
          "data": {
            "text/plain": [
              "1.0*y_pred - 1.0*y_true"
            ]
          },
          "metadata": {
            "tags": []
          },
          "execution_count": 57
        }
      ]
    },
    {
      "cell_type": "code",
      "metadata": {
        "id": "CbGzDNTIuOmI"
      },
      "source": [
        "-(y_true - y_pred)"
      ],
      "execution_count": null,
      "outputs": []
    },
    {
      "cell_type": "code",
      "metadata": {
        "id": "nYdVMIQxuWsl"
      },
      "source": [
        "from sklearn.datasets import make_classification"
      ],
      "execution_count": null,
      "outputs": []
    },
    {
      "cell_type": "code",
      "metadata": {
        "id": "h6rgYM_3vzuY"
      },
      "source": [
        "X, y = make_classification(n_samples=10,n_features=3,n_redundant=0)"
      ],
      "execution_count": null,
      "outputs": []
    },
    {
      "cell_type": "code",
      "metadata": {
        "id": "nIphup9Pv7ni"
      },
      "source": [
        "df = pd.DataFrame(X)"
      ],
      "execution_count": null,
      "outputs": []
    },
    {
      "cell_type": "code",
      "metadata": {
        "id": "JcNzDdvEv9vp"
      },
      "source": [
        "df['y_true'] = y"
      ],
      "execution_count": null,
      "outputs": []
    },
    {
      "cell_type": "code",
      "metadata": {
        "id": "csUWl5x_v_oc",
        "colab": {
          "base_uri": "https://localhost:8080/",
          "height": 359
        },
        "outputId": "0309b1eb-eca0-4f95-d360-4cdbece1d132"
      },
      "source": [
        "df"
      ],
      "execution_count": null,
      "outputs": [
        {
          "output_type": "execute_result",
          "data": {
            "text/html": [
              "<div>\n",
              "<style scoped>\n",
              "    .dataframe tbody tr th:only-of-type {\n",
              "        vertical-align: middle;\n",
              "    }\n",
              "\n",
              "    .dataframe tbody tr th {\n",
              "        vertical-align: top;\n",
              "    }\n",
              "\n",
              "    .dataframe thead th {\n",
              "        text-align: right;\n",
              "    }\n",
              "</style>\n",
              "<table border=\"1\" class=\"dataframe\">\n",
              "  <thead>\n",
              "    <tr style=\"text-align: right;\">\n",
              "      <th></th>\n",
              "      <th>0</th>\n",
              "      <th>1</th>\n",
              "      <th>2</th>\n",
              "      <th>y_true</th>\n",
              "    </tr>\n",
              "  </thead>\n",
              "  <tbody>\n",
              "    <tr>\n",
              "      <th>0</th>\n",
              "      <td>-0.041103</td>\n",
              "      <td>2.246613</td>\n",
              "      <td>-1.686811</td>\n",
              "      <td>1</td>\n",
              "    </tr>\n",
              "    <tr>\n",
              "      <th>1</th>\n",
              "      <td>0.522613</td>\n",
              "      <td>0.270418</td>\n",
              "      <td>-0.985522</td>\n",
              "      <td>1</td>\n",
              "    </tr>\n",
              "    <tr>\n",
              "      <th>2</th>\n",
              "      <td>1.760704</td>\n",
              "      <td>1.888991</td>\n",
              "      <td>-1.571686</td>\n",
              "      <td>1</td>\n",
              "    </tr>\n",
              "    <tr>\n",
              "      <th>3</th>\n",
              "      <td>2.380392</td>\n",
              "      <td>-0.976465</td>\n",
              "      <td>-0.266010</td>\n",
              "      <td>0</td>\n",
              "    </tr>\n",
              "    <tr>\n",
              "      <th>4</th>\n",
              "      <td>-0.920377</td>\n",
              "      <td>-0.780406</td>\n",
              "      <td>0.527424</td>\n",
              "      <td>0</td>\n",
              "    </tr>\n",
              "    <tr>\n",
              "      <th>5</th>\n",
              "      <td>-0.427530</td>\n",
              "      <td>0.358899</td>\n",
              "      <td>2.122867</td>\n",
              "      <td>0</td>\n",
              "    </tr>\n",
              "    <tr>\n",
              "      <th>6</th>\n",
              "      <td>-2.069708</td>\n",
              "      <td>0.479868</td>\n",
              "      <td>1.030371</td>\n",
              "      <td>1</td>\n",
              "    </tr>\n",
              "    <tr>\n",
              "      <th>7</th>\n",
              "      <td>1.352707</td>\n",
              "      <td>-0.991230</td>\n",
              "      <td>1.580608</td>\n",
              "      <td>0</td>\n",
              "    </tr>\n",
              "    <tr>\n",
              "      <th>8</th>\n",
              "      <td>-1.160031</td>\n",
              "      <td>0.709400</td>\n",
              "      <td>-0.090182</td>\n",
              "      <td>1</td>\n",
              "    </tr>\n",
              "    <tr>\n",
              "      <th>9</th>\n",
              "      <td>-0.021277</td>\n",
              "      <td>1.436094</td>\n",
              "      <td>-0.098302</td>\n",
              "      <td>0</td>\n",
              "    </tr>\n",
              "  </tbody>\n",
              "</table>\n",
              "</div>"
            ],
            "text/plain": [
              "          0         1         2  y_true\n",
              "0 -0.041103  2.246613 -1.686811       1\n",
              "1  0.522613  0.270418 -0.985522       1\n",
              "2  1.760704  1.888991 -1.571686       1\n",
              "3  2.380392 -0.976465 -0.266010       0\n",
              "4 -0.920377 -0.780406  0.527424       0\n",
              "5 -0.427530  0.358899  2.122867       0\n",
              "6 -2.069708  0.479868  1.030371       1\n",
              "7  1.352707 -0.991230  1.580608       0\n",
              "8 -1.160031  0.709400 -0.090182       1\n",
              "9 -0.021277  1.436094 -0.098302       0"
            ]
          },
          "metadata": {
            "tags": []
          },
          "execution_count": 62
        }
      ]
    },
    {
      "cell_type": "code",
      "metadata": {
        "id": "eKpbMLOswHxu"
      },
      "source": [
        "df['y_pred'] = df['y_true'].mean()"
      ],
      "execution_count": null,
      "outputs": []
    },
    {
      "cell_type": "code",
      "metadata": {
        "id": "uOuDeiR6wLKP",
        "colab": {
          "base_uri": "https://localhost:8080/",
          "height": 359
        },
        "outputId": "7972fde1-c49a-4575-f3f4-1501a0231340"
      },
      "source": [
        "df"
      ],
      "execution_count": null,
      "outputs": [
        {
          "output_type": "execute_result",
          "data": {
            "text/html": [
              "<div>\n",
              "<style scoped>\n",
              "    .dataframe tbody tr th:only-of-type {\n",
              "        vertical-align: middle;\n",
              "    }\n",
              "\n",
              "    .dataframe tbody tr th {\n",
              "        vertical-align: top;\n",
              "    }\n",
              "\n",
              "    .dataframe thead th {\n",
              "        text-align: right;\n",
              "    }\n",
              "</style>\n",
              "<table border=\"1\" class=\"dataframe\">\n",
              "  <thead>\n",
              "    <tr style=\"text-align: right;\">\n",
              "      <th></th>\n",
              "      <th>0</th>\n",
              "      <th>1</th>\n",
              "      <th>2</th>\n",
              "      <th>y_true</th>\n",
              "      <th>y_pred</th>\n",
              "    </tr>\n",
              "  </thead>\n",
              "  <tbody>\n",
              "    <tr>\n",
              "      <th>0</th>\n",
              "      <td>-0.041103</td>\n",
              "      <td>2.246613</td>\n",
              "      <td>-1.686811</td>\n",
              "      <td>1</td>\n",
              "      <td>0.5</td>\n",
              "    </tr>\n",
              "    <tr>\n",
              "      <th>1</th>\n",
              "      <td>0.522613</td>\n",
              "      <td>0.270418</td>\n",
              "      <td>-0.985522</td>\n",
              "      <td>1</td>\n",
              "      <td>0.5</td>\n",
              "    </tr>\n",
              "    <tr>\n",
              "      <th>2</th>\n",
              "      <td>1.760704</td>\n",
              "      <td>1.888991</td>\n",
              "      <td>-1.571686</td>\n",
              "      <td>1</td>\n",
              "      <td>0.5</td>\n",
              "    </tr>\n",
              "    <tr>\n",
              "      <th>3</th>\n",
              "      <td>2.380392</td>\n",
              "      <td>-0.976465</td>\n",
              "      <td>-0.266010</td>\n",
              "      <td>0</td>\n",
              "      <td>0.5</td>\n",
              "    </tr>\n",
              "    <tr>\n",
              "      <th>4</th>\n",
              "      <td>-0.920377</td>\n",
              "      <td>-0.780406</td>\n",
              "      <td>0.527424</td>\n",
              "      <td>0</td>\n",
              "      <td>0.5</td>\n",
              "    </tr>\n",
              "    <tr>\n",
              "      <th>5</th>\n",
              "      <td>-0.427530</td>\n",
              "      <td>0.358899</td>\n",
              "      <td>2.122867</td>\n",
              "      <td>0</td>\n",
              "      <td>0.5</td>\n",
              "    </tr>\n",
              "    <tr>\n",
              "      <th>6</th>\n",
              "      <td>-2.069708</td>\n",
              "      <td>0.479868</td>\n",
              "      <td>1.030371</td>\n",
              "      <td>1</td>\n",
              "      <td>0.5</td>\n",
              "    </tr>\n",
              "    <tr>\n",
              "      <th>7</th>\n",
              "      <td>1.352707</td>\n",
              "      <td>-0.991230</td>\n",
              "      <td>1.580608</td>\n",
              "      <td>0</td>\n",
              "      <td>0.5</td>\n",
              "    </tr>\n",
              "    <tr>\n",
              "      <th>8</th>\n",
              "      <td>-1.160031</td>\n",
              "      <td>0.709400</td>\n",
              "      <td>-0.090182</td>\n",
              "      <td>1</td>\n",
              "      <td>0.5</td>\n",
              "    </tr>\n",
              "    <tr>\n",
              "      <th>9</th>\n",
              "      <td>-0.021277</td>\n",
              "      <td>1.436094</td>\n",
              "      <td>-0.098302</td>\n",
              "      <td>0</td>\n",
              "      <td>0.5</td>\n",
              "    </tr>\n",
              "  </tbody>\n",
              "</table>\n",
              "</div>"
            ],
            "text/plain": [
              "          0         1         2  y_true  y_pred\n",
              "0 -0.041103  2.246613 -1.686811       1     0.5\n",
              "1  0.522613  0.270418 -0.985522       1     0.5\n",
              "2  1.760704  1.888991 -1.571686       1     0.5\n",
              "3  2.380392 -0.976465 -0.266010       0     0.5\n",
              "4 -0.920377 -0.780406  0.527424       0     0.5\n",
              "5 -0.427530  0.358899  2.122867       0     0.5\n",
              "6 -2.069708  0.479868  1.030371       1     0.5\n",
              "7  1.352707 -0.991230  1.580608       0     0.5\n",
              "8 -1.160031  0.709400 -0.090182       1     0.5\n",
              "9 -0.021277  1.436094 -0.098302       0     0.5"
            ]
          },
          "metadata": {
            "tags": []
          },
          "execution_count": 64
        }
      ]
    },
    {
      "cell_type": "code",
      "metadata": {
        "id": "MLFTIkvHwNPu"
      },
      "source": [
        "from sklearn.metrics import roc_auc_score"
      ],
      "execution_count": null,
      "outputs": []
    },
    {
      "cell_type": "code",
      "metadata": {
        "id": "rjxaAEv1wRXv",
        "colab": {
          "base_uri": "https://localhost:8080/",
          "height": 34
        },
        "outputId": "d43909a1-e894-411b-b498-e0b3d991b653"
      },
      "source": [
        "roc_auc_score(df['y_true'],df['y_pred'])"
      ],
      "execution_count": null,
      "outputs": [
        {
          "output_type": "execute_result",
          "data": {
            "text/plain": [
              "0.5"
            ]
          },
          "metadata": {
            "tags": []
          },
          "execution_count": 66
        }
      ]
    },
    {
      "cell_type": "code",
      "metadata": {
        "id": "TAbY8-SJwAhT",
        "colab": {
          "base_uri": "https://localhost:8080/",
          "height": 187
        },
        "outputId": "90525d44-85d2-44ed-fc7e-1fbfca4f97ad"
      },
      "source": [
        "n = 10\n",
        "nu = 0.1\n",
        "trees = []\n",
        "df['y_pred'] = df['y_true'].mean()\n",
        "\n",
        "for i in range(n):\n",
        "  df['residual'] = df['y_true'] - df['y_pred']\n",
        "  tree = DecisionTreeRegressor(max_depth=1)\n",
        "  tree.fit(df[[0,1,2]],df['residual'])\n",
        "  df['y_pred'] += nu * tree.predict(df[[0,1,2]])\n",
        "  trees.append(tree)\n",
        "  print(roc_auc_score(df['y_true'],df['y_pred']))"
      ],
      "execution_count": null,
      "outputs": [
        {
          "output_type": "stream",
          "text": [
            "0.8\n",
            "0.92\n",
            "0.92\n",
            "0.92\n",
            "1.0\n",
            "1.0\n",
            "1.0\n",
            "1.0\n",
            "1.0\n",
            "1.0\n"
          ],
          "name": "stdout"
        }
      ]
    },
    {
      "cell_type": "code",
      "metadata": {
        "id": "8_Gjdmxoweo0",
        "colab": {
          "base_uri": "https://localhost:8080/",
          "height": 359
        },
        "outputId": "1fc4578f-3239-4031-ff9a-5e1120510401"
      },
      "source": [
        "df"
      ],
      "execution_count": null,
      "outputs": [
        {
          "output_type": "execute_result",
          "data": {
            "text/html": [
              "<div>\n",
              "<style scoped>\n",
              "    .dataframe tbody tr th:only-of-type {\n",
              "        vertical-align: middle;\n",
              "    }\n",
              "\n",
              "    .dataframe tbody tr th {\n",
              "        vertical-align: top;\n",
              "    }\n",
              "\n",
              "    .dataframe thead th {\n",
              "        text-align: right;\n",
              "    }\n",
              "</style>\n",
              "<table border=\"1\" class=\"dataframe\">\n",
              "  <thead>\n",
              "    <tr style=\"text-align: right;\">\n",
              "      <th></th>\n",
              "      <th>0</th>\n",
              "      <th>1</th>\n",
              "      <th>2</th>\n",
              "      <th>y_true</th>\n",
              "      <th>y_pred</th>\n",
              "      <th>residual</th>\n",
              "    </tr>\n",
              "  </thead>\n",
              "  <tbody>\n",
              "    <tr>\n",
              "      <th>0</th>\n",
              "      <td>-0.041103</td>\n",
              "      <td>2.246613</td>\n",
              "      <td>-1.686811</td>\n",
              "      <td>1</td>\n",
              "      <td>0.701910</td>\n",
              "      <td>0.331212</td>\n",
              "    </tr>\n",
              "    <tr>\n",
              "      <th>1</th>\n",
              "      <td>0.522613</td>\n",
              "      <td>0.270418</td>\n",
              "      <td>-0.985522</td>\n",
              "      <td>1</td>\n",
              "      <td>0.701910</td>\n",
              "      <td>0.331212</td>\n",
              "    </tr>\n",
              "    <tr>\n",
              "      <th>2</th>\n",
              "      <td>1.760704</td>\n",
              "      <td>1.888991</td>\n",
              "      <td>-1.571686</td>\n",
              "      <td>1</td>\n",
              "      <td>0.701910</td>\n",
              "      <td>0.331212</td>\n",
              "    </tr>\n",
              "    <tr>\n",
              "      <th>3</th>\n",
              "      <td>2.380392</td>\n",
              "      <td>-0.976465</td>\n",
              "      <td>-0.266010</td>\n",
              "      <td>0</td>\n",
              "      <td>0.289055</td>\n",
              "      <td>-0.303249</td>\n",
              "    </tr>\n",
              "    <tr>\n",
              "      <th>4</th>\n",
              "      <td>-0.920377</td>\n",
              "      <td>-0.780406</td>\n",
              "      <td>0.527424</td>\n",
              "      <td>0</td>\n",
              "      <td>0.289055</td>\n",
              "      <td>-0.303249</td>\n",
              "    </tr>\n",
              "    <tr>\n",
              "      <th>5</th>\n",
              "      <td>-0.427530</td>\n",
              "      <td>0.358899</td>\n",
              "      <td>2.122867</td>\n",
              "      <td>0</td>\n",
              "      <td>0.419202</td>\n",
              "      <td>-0.433397</td>\n",
              "    </tr>\n",
              "    <tr>\n",
              "      <th>6</th>\n",
              "      <td>-2.069708</td>\n",
              "      <td>0.479868</td>\n",
              "      <td>1.030371</td>\n",
              "      <td>1</td>\n",
              "      <td>0.594352</td>\n",
              "      <td>0.391453</td>\n",
              "    </tr>\n",
              "    <tr>\n",
              "      <th>7</th>\n",
              "      <td>1.352707</td>\n",
              "      <td>-0.991230</td>\n",
              "      <td>1.580608</td>\n",
              "      <td>0</td>\n",
              "      <td>0.289055</td>\n",
              "      <td>-0.303249</td>\n",
              "    </tr>\n",
              "    <tr>\n",
              "      <th>8</th>\n",
              "      <td>-1.160031</td>\n",
              "      <td>0.709400</td>\n",
              "      <td>-0.090182</td>\n",
              "      <td>1</td>\n",
              "      <td>0.594352</td>\n",
              "      <td>0.391453</td>\n",
              "    </tr>\n",
              "    <tr>\n",
              "      <th>9</th>\n",
              "      <td>-0.021277</td>\n",
              "      <td>1.436094</td>\n",
              "      <td>-0.098302</td>\n",
              "      <td>0</td>\n",
              "      <td>0.419202</td>\n",
              "      <td>-0.433397</td>\n",
              "    </tr>\n",
              "  </tbody>\n",
              "</table>\n",
              "</div>"
            ],
            "text/plain": [
              "          0         1         2  y_true    y_pred  residual\n",
              "0 -0.041103  2.246613 -1.686811       1  0.701910  0.331212\n",
              "1  0.522613  0.270418 -0.985522       1  0.701910  0.331212\n",
              "2  1.760704  1.888991 -1.571686       1  0.701910  0.331212\n",
              "3  2.380392 -0.976465 -0.266010       0  0.289055 -0.303249\n",
              "4 -0.920377 -0.780406  0.527424       0  0.289055 -0.303249\n",
              "5 -0.427530  0.358899  2.122867       0  0.419202 -0.433397\n",
              "6 -2.069708  0.479868  1.030371       1  0.594352  0.391453\n",
              "7  1.352707 -0.991230  1.580608       0  0.289055 -0.303249\n",
              "8 -1.160031  0.709400 -0.090182       1  0.594352  0.391453\n",
              "9 -0.021277  1.436094 -0.098302       0  0.419202 -0.433397"
            ]
          },
          "metadata": {
            "tags": []
          },
          "execution_count": 68
        }
      ]
    },
    {
      "cell_type": "code",
      "metadata": {
        "id": "OQjk5fviwhRp"
      },
      "source": [
        "roc_auc_score(df['y_true'],df['y_pred'])"
      ],
      "execution_count": null,
      "outputs": []
    }
  ]
}