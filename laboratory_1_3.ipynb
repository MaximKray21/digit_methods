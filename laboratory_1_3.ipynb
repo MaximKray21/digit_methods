{
 "cells": [
  {
   "cell_type": "markdown",
   "id": "6e3380aa",
   "metadata": {},
   "source": [
    "1.3. Применить метод простых итераций и метод Зейделя к решению СЛАУ, задавая в качестве входных данных матрицу системы, вектор правых частей и точность вычислений. Проанализировать количество итераций, необходимое для достижения заданной точности."
   ]
  },
  {
   "cell_type": "markdown",
   "id": "f4f8c4d7",
   "metadata": {},
   "source": [
    "# Оформление"
   ]
  },
  {
   "cell_type": "code",
   "execution_count": 114,
   "id": "e56bab5a",
   "metadata": {},
   "outputs": [],
   "source": [
    "A = [[24, 2, 4,-9], [-6, -27, -8, -6], [-4, 8, 19, 6], [4, 5, -3, -13]]\n",
    "B = [-9, -76, -79, -70]"
   ]
  },
  {
   "cell_type": "code",
   "execution_count": 115,
   "id": "41987e20",
   "metadata": {},
   "outputs": [],
   "source": [
    "import numpy as np\n",
    "matrix = np.array(A)\n",
    "b = np.array(B)\n",
    "n = 4"
   ]
  },
  {
   "cell_type": "markdown",
   "id": "034b91f1",
   "metadata": {},
   "source": [
    "## Описательная часть"
   ]
  },
  {
   "cell_type": "code",
   "execution_count": 117,
   "id": "5400f519",
   "metadata": {},
   "outputs": [],
   "source": [
    "# перевод значений вектора b в тип данных float\n",
    "def floating_b(m):\n",
    "    b = []\n",
    "    for i in m:\n",
    "        b.append(float(i))\n",
    "    return np.array(b)\n",
    "# good working"
   ]
  },
  {
   "cell_type": "code",
   "execution_count": 118,
   "id": "50743d69",
   "metadata": {},
   "outputs": [],
   "source": [
    "# перевод значений матрицы matrix в тип данных float\n",
    "def floating_a(mrx):\n",
    "\n",
    "    m = []\n",
    "    for i in mrx:\n",
    "        temp = []\n",
    "        for j in i:\n",
    "            temp.append(float(j))\n",
    "        m.append(temp)\n",
    "    np.array(m)\n",
    "    \n",
    "    return np.array(m)\n",
    "# good working"
   ]
  },
  {
   "cell_type": "code",
   "execution_count": 119,
   "id": "9cff39c6",
   "metadata": {},
   "outputs": [],
   "source": [
    "# We get betta-vector\n",
    "def betta(b):\n",
    "    b = floating_b(b)\n",
    "    for i in range(n):\n",
    "        b[i] /= matrix[i][i]\n",
    "    return b"
   ]
  },
  {
   "cell_type": "code",
   "execution_count": 120,
   "id": "120b4bcb",
   "metadata": {},
   "outputs": [],
   "source": [
    "# We get alpha-matrix\n",
    "def alpha(matrix):\n",
    "    matrix = floating_a(matrix)\n",
    "    for i in range(n):\n",
    "        matrix[i] = matrix[i] / (-matrix[i][i])\n",
    "        matrix[i][i] = 0\n",
    "    return matrix"
   ]
  },
  {
   "cell_type": "code",
   "execution_count": 121,
   "id": "76b45fad",
   "metadata": {},
   "outputs": [],
   "source": [
    "# сравнивается норма dx и заданная точность\n",
    "def norma(x, x_prev, epsilon):\n",
    "    nma = (sum((x - x_prev) ** 2)) ** 0.5\n",
    "    if nma > epsilon:\n",
    "        return True\n",
    "    else: return (x, nma)"
   ]
  },
  {
   "cell_type": "code",
   "execution_count": 122,
   "id": "32b0d58b",
   "metadata": {},
   "outputs": [],
   "source": [
    "# copy of b-vector\n",
    "def copy_b(b):\n",
    "    b_copy = []\n",
    "    for i in b:\n",
    "        b_copy.append(i)\n",
    "    return b_copy\n",
    "# В сравнении с ручным счетом работает стабильно"
   ]
  },
  {
   "cell_type": "markdown",
   "id": "da228389",
   "metadata": {},
   "source": [
    "## Часть,  выводящая решение"
   ]
  },
  {
   "cell_type": "code",
   "execution_count": 123,
   "id": "69942a61",
   "metadata": {
    "scrolled": true
   },
   "outputs": [
    {
     "data": {
      "text/plain": [
       "array([[ 0.        , -0.08333333, -0.16666667,  0.375     ],\n",
       "       [-0.22222222,  0.        , -0.2962963 , -0.22222222],\n",
       "       [ 0.21052632, -0.42105263,  0.        , -0.31578947],\n",
       "       [ 0.30769231,  0.38461538, -0.23076923,  0.        ]])"
      ]
     },
     "execution_count": 123,
     "metadata": {},
     "output_type": "execute_result"
    }
   ],
   "source": [
    "alpha(matrix)"
   ]
  },
  {
   "cell_type": "code",
   "execution_count": 124,
   "id": "0032aded",
   "metadata": {
    "scrolled": true
   },
   "outputs": [
    {
     "data": {
      "text/plain": [
       "array([-0.375     ,  2.81481481, -4.15789474,  5.38461538])"
      ]
     },
     "execution_count": 124,
     "metadata": {},
     "output_type": "execute_result"
    }
   ],
   "source": [
    "betta(b)"
   ]
  },
  {
   "cell_type": "code",
   "execution_count": 125,
   "id": "b0e9abb8",
   "metadata": {
    "scrolled": false
   },
   "outputs": [
    {
     "name": "stdout",
     "output_type": "stream",
     "text": [
      "[ 2.10264532  2.93353576 -7.12243215  7.31136602]\n",
      "\n",
      "[ 3.30937297  2.83316256 -7.25925794  8.80350435]\n",
      "\n",
      "[ 3.90009358  2.27395554 -7.43414919  9.16777527]\n",
      "\n",
      "[ 4.1124443   2.11355483 -7.1893643   9.17481535]\n",
      "\n",
      "[ 4.08765357  1.99227246 -7.07934493  9.12197263]\n",
      "\n",
      "[ 4.05960785  1.97692601 -7.01681059  9.04230857]\n",
      "\n",
      "[ 4.02059031  1.98233282 -6.99109621  9.01334563]\n",
      "[ 4.02059031  1.98233282 -6.99109621  9.01334563] 7 0.055242041504722124\n"
     ]
    }
   ],
   "source": [
    "# Задание нового вектора b должно быть обязательно перед объявлением новой матрицы \"a\" в том случае,\n",
    "# если мы создаем не новую переменную 'a', а меняем старую (matrix), то есть строка 4 данной ячейки \n",
    "# выглядит следующим образом b, matrix = betta(b), alpha(matrix)\n",
    "b, a = betta(b), alpha(matrix)\n",
    "x_prev = b\n",
    "cnt = 0\n",
    "while True:\n",
    "    x = b + np.dot(a,x_prev)\n",
    "    cnt += 1\n",
    "    print(x)\n",
    "    if norma(x, x_prev, 0.1) is True:\n",
    "        x_prev = x\n",
    "        print()\n",
    "        continue\n",
    "    else:\n",
    "        print(x, cnt, (sum((x - x_prev) ** 2)) ** 0.5)\n",
    "        break"
   ]
  },
  {
   "cell_type": "code",
   "execution_count": 126,
   "id": "6d14904b",
   "metadata": {},
   "outputs": [],
   "source": [
    "import numpy as np\n",
    "matrix = np.array(A)\n",
    "b = np.array(B)\n",
    "n = 4"
   ]
  },
  {
   "cell_type": "code",
   "execution_count": 127,
   "id": "c165a06b",
   "metadata": {},
   "outputs": [
    {
     "data": {
      "text/plain": [
       "array([[ 0.        , -0.08333333, -0.16666667,  0.375     ],\n",
       "       [-0.22222222,  0.        , -0.2962963 , -0.22222222],\n",
       "       [ 0.21052632, -0.42105263,  0.        , -0.31578947],\n",
       "       [ 0.30769231,  0.38461538, -0.23076923,  0.        ]])"
      ]
     },
     "execution_count": 127,
     "metadata": {},
     "output_type": "execute_result"
    }
   ],
   "source": [
    "alpha(matrix)"
   ]
  },
  {
   "cell_type": "code",
   "execution_count": 128,
   "id": "e351ed4b",
   "metadata": {
    "scrolled": true
   },
   "outputs": [
    {
     "data": {
      "text/plain": [
       "array([-0.375     ,  2.81481481, -4.15789474,  5.38461538])"
      ]
     },
     "execution_count": 128,
     "metadata": {},
     "output_type": "execute_result"
    }
   ],
   "source": [
    "betta(b)"
   ]
  },
  {
   "cell_type": "code",
   "execution_count": 129,
   "id": "1502894c",
   "metadata": {},
   "outputs": [
    {
     "name": "stdout",
     "output_type": "stream",
     "text": [
      "\n",
      "[ 2.10264532  2.38294791 -6.41898391  8.42940558]\n",
      "\n",
      "[ 3.65727875  2.03080612 -6.90493513  8.88445777]\n",
      "\n",
      "[ 3.93826034  2.01122861 -6.98123864  8.98099233]\n",
      "[ 3.98880951  2.00115178 -6.99683843  8.99627017] 4 0.05597791651536611\n"
     ]
    }
   ],
   "source": [
    "# метод зейделя\n",
    "x_prev = betta(b)\n",
    "cnt = 0\n",
    "x = betta(b)\n",
    "while True:\n",
    "    cnt += 1\n",
    "    for i in range(len(x)):\n",
    "        x[i] = betta(b)[i] + (x[0] * alpha(matrix)[i][0]) + (x[1] * alpha(matrix)[i][1]) + \\\n",
    "                    (x[2] * alpha(matrix)[i][2]) + (x[3] * alpha(matrix)[i][3])\n",
    "\n",
    "    if norma(x, x_prev, 0.1) is True:\n",
    "            x_prev = copy_b(x)\n",
    "            print()\n",
    "            print(x)\n",
    "            continue\n",
    "    else:\n",
    "        print(x, cnt, (sum((x - x_prev) ** 2)) ** 0.5)\n",
    "        break"
   ]
  },
  {
   "cell_type": "code",
   "execution_count": null,
   "id": "903bc486",
   "metadata": {},
   "outputs": [],
   "source": []
  }
 ],
 "metadata": {
  "kernelspec": {
   "display_name": "Python 3 (ipykernel)",
   "language": "python",
   "name": "python3"
  },
  "language_info": {
   "codemirror_mode": {
    "name": "ipython",
    "version": 3
   },
   "file_extension": ".py",
   "mimetype": "text/x-python",
   "name": "python",
   "nbconvert_exporter": "python",
   "pygments_lexer": "ipython3",
   "version": "3.9.7"
  }
 },
 "nbformat": 4,
 "nbformat_minor": 5
}
