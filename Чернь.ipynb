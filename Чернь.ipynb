{
 "cells": [
  {
   "cell_type": "markdown",
   "id": "ad6bbd74",
   "metadata": {},
   "source": [
    "# конечно-разностный метод"
   ]
  },
  {
   "cell_type": "code",
   "execution_count": 1,
   "id": "e005a7de",
   "metadata": {},
   "outputs": [],
   "source": [
    "import numpy as np"
   ]
  },
  {
   "cell_type": "code",
   "execution_count": 2,
   "id": "717c3bdf",
   "metadata": {},
   "outputs": [],
   "source": [
    "def count_y_x_i(x): # задаваемая из условия функция\n",
    "    f = np.exp(-x)/(x)\n",
    "    return f"
   ]
  },
  {
   "cell_type": "code",
   "execution_count": 3,
   "id": "94087e9d",
   "metadata": {},
   "outputs": [],
   "source": [
    "a = 1 # начальная точка\n",
    "h = 0.25 # шаг\n",
    "wh = [a + i * 0.25 for i in range(5)] # вектор значений Х"
   ]
  },
  {
   "cell_type": "code",
   "execution_count": 4,
   "id": "ba9fed61",
   "metadata": {
    "scrolled": true
   },
   "outputs": [
    {
     "name": "stdout",
     "output_type": "stream",
     "text": [
      "X = 1.0,  y = 0.36787944117144233\n",
      "X = 1.25,  y = 0.22920383748815207\n",
      "X = 1.5,  y = 0.14875344009895322\n",
      "X = 1.75,  y = 0.09929939625739723\n",
      "X = 2.0,  y = 0.06766764161830635\n"
     ]
    }
   ],
   "source": [
    "# значения точного решения\n",
    "for i in wh:\n",
    "    print(f'X = {i},  y = {count_y_x_i(i)}')"
   ]
  },
  {
   "cell_type": "code",
   "execution_count": 5,
   "id": "4b9c8b5e",
   "metadata": {},
   "outputs": [],
   "source": [
    "# настраивается в зависимости от условий (1 - нормальные граничные условия, 0 - 3-го рода)\n",
    "index = 1"
   ]
  },
  {
   "cell_type": "code",
   "execution_count": 6,
   "id": "39385abd",
   "metadata": {},
   "outputs": [],
   "source": [
    "# задаются из условий задачи (граничные значения)\n",
    "ya = np.exp(-1)\n",
    "yb = np.exp(-2) / 2"
   ]
  },
  {
   "cell_type": "code",
   "execution_count": 7,
   "id": "e1461f5b",
   "metadata": {},
   "outputs": [],
   "source": [
    "# опишем функции p (1ая производная), q (просто функция), f (свободная переменная), которые необходимо\n",
    "# найти вручную из первого уравнения системы\n",
    "def p_mnoz(x):\n",
    "    return 2/x\n",
    "def q_mnoz(x):\n",
    "    return -1\n",
    "def f_mnoz(x):\n",
    "    return 0"
   ]
  },
  {
   "cell_type": "code",
   "execution_count": 8,
   "id": "8ef03fd7",
   "metadata": {},
   "outputs": [],
   "source": [
    "# составляет матрицу множителей a, b, c\n",
    "def mnoz_of_slau(h, p, q, f):\n",
    "    vect_a, vect_b, vect_c, vect_d  = [[] for i in range(4)]\n",
    "    def ai(pi):\n",
    "        return (1/(h**2)) - (pi/2*h)\n",
    "        \n",
    "    def bi(qi):\n",
    "        return -2/(h**2) + qi\n",
    "            \n",
    "    def ci(pi):\n",
    "        return (1/(h**2)) + (pi/2*h)\n",
    "    \n",
    "    for i in p:\n",
    "        vect_a.append(ai(i)) \n",
    "        vect_c.append(ci(i))\n",
    "\n",
    "    for i in q:\n",
    "        vect_b.append(bi(i))\n",
    "\n",
    "    for i in f:\n",
    "        vect_d.append(i)\n",
    "    \n",
    "    return (vect_a, vect_b, vect_c, vect_d)\n",
    "# работает нормально"
   ]
  },
  {
   "cell_type": "code",
   "execution_count": 9,
   "id": "13a951d2",
   "metadata": {},
   "outputs": [],
   "source": [
    "def d_first_and_last(matrix, d): # меняем значения d1 и dn-1 вектора d \n",
    "    \n",
    "    d[index] = d[index] - matrix[0][index] * ya\n",
    "    d[-2] = d[-2] - matrix[-1][-2] * yb\n",
    "    return d\n",
    "# работает справно"
   ]
  },
  {
   "attachments": {
    "image.png": {
     "image/png": "[encoded data removed]"
    }
   },
   "cell_type": "markdown",
   "id": "dfab5cda",
   "metadata": {},
   "source": [
    "по формуле ниже расчитываем значения погоночных коэффициентов\n",
    "![image.png](attachment:image.png)"
   ]
  },
  {
   "cell_type": "code",
   "execution_count": 10,
   "id": "ba6fc6a8",
   "metadata": {},
   "outputs": [],
   "source": [
    "# создаем погоночные коэффициенты\n",
    "def define_vectors_A_B(matrix, d):\n",
    "    A = [0]\n",
    "    B = [0]\n",
    "    for i in range(5):\n",
    "        A.append(-matrix[2][i] / (matrix[1][i] + (matrix[0][i] * A[-1])))\n",
    "        B.append((d[i] - matrix[0][i] * B[-1]) / (matrix[1][i] + (matrix[0][i] * A[-2])))\n",
    "    A.pop(0)\n",
    "    B.pop(0)\n",
    "    return A, B"
   ]
  },
  {
   "attachments": {
    "image.png": {
     "image/png": "[encoded data removed]"
    }
   },
   "cell_type": "markdown",
   "id": "e4dcf270",
   "metadata": {},
   "source": [
    "находим корни с помощью формулы\n",
    "![image.png](attachment:image.png)"
   ]
  },
  {
   "cell_type": "code",
   "execution_count": 11,
   "id": "c92fb8c6",
   "metadata": {},
   "outputs": [],
   "source": [
    "# ищем корни уравнения\n",
    "def find_y(a, b):\n",
    "    y = [ya, 0, 0, 0, yb]\n",
    "    for i in range(len(y) -2, 0 + (index - 1), -1):\n",
    "        y[i] = a[i] * y[i + 1] + b[i]\n",
    "    return y"
   ]
  },
  {
   "cell_type": "code",
   "execution_count": 12,
   "id": "c63136d7",
   "metadata": {},
   "outputs": [],
   "source": [
    "# составим матрицу значений p, q, f\n",
    "matrix_of_mnoz = [[p_mnoz(x) for x in wh], [q_mnoz(x) for x in wh], [f_mnoz(x) for x in wh]]\n",
    "# работает исправно"
   ]
  },
  {
   "cell_type": "code",
   "execution_count": 13,
   "id": "d7e540d8",
   "metadata": {
    "scrolled": false
   },
   "outputs": [
    {
     "data": {
      "text/plain": [
       "array([[ 2.        , -1.        ,  0.        ],\n",
       "       [ 1.6       , -1.        ,  0.        ],\n",
       "       [ 1.33333333, -1.        ,  0.        ],\n",
       "       [ 1.14285714, -1.        ,  0.        ],\n",
       "       [ 1.        , -1.        ,  0.        ]])"
      ]
     },
     "execution_count": 13,
     "metadata": {},
     "output_type": "execute_result"
    }
   ],
   "source": [
    "np.array(matrix_of_mnoz).T #значения p, q, f по x"
   ]
  },
  {
   "cell_type": "code",
   "execution_count": 14,
   "id": "ce1f7de9",
   "metadata": {
    "scrolled": true
   },
   "outputs": [],
   "source": [
    "# составим матрицу значений ai, bi, ci и вектор d\n",
    "matrix = [[], [], []]\n",
    "matrix[0], matrix[1], matrix[2], d = mnoz_of_slau(h, matrix_of_mnoz[0], \n",
    "                                                matrix_of_mnoz[1], matrix_of_mnoz[2])"
   ]
  },
  {
   "cell_type": "code",
   "execution_count": 15,
   "id": "b5bf79f3",
   "metadata": {},
   "outputs": [],
   "source": [
    "d = d_first_and_last(matrix, d) # меняем вектор d "
   ]
  },
  {
   "cell_type": "code",
   "execution_count": 16,
   "id": "192cad4c",
   "metadata": {},
   "outputs": [],
   "source": [
    "# Настало время обнулить значения a1 и сn-1 после перемены вектора d\n",
    "def obnul(matrix, index):\n",
    "    matrix[0][index], matrix[2][- index - 1] = 0, 0\n",
    "    return matrix"
   ]
  },
  {
   "cell_type": "code",
   "execution_count": 17,
   "id": "4abbcb02",
   "metadata": {
    "scrolled": true
   },
   "outputs": [
    {
     "data": {
      "text/plain": [
       "array([[ 15.75      , -33.        ,  16.25      ],\n",
       "       [ 15.8       , -33.        ,  16.2       ],\n",
       "       [ 15.83333333, -33.        ,  16.16666667],\n",
       "       [ 15.85714286, -33.        ,  16.14285714],\n",
       "       [ 15.875     , -33.        ,  16.125     ]])"
      ]
     },
     "execution_count": 17,
     "metadata": {},
     "output_type": "execute_result"
    }
   ],
   "source": [
    "np.array(matrix).T # матрица значений ai, bi, ci до обнуления. Вычиляются данные коэффициенты (ai, bi, ci) \n",
    "         # также и для нулевого и последнего уравнений "
   ]
  },
  {
   "cell_type": "code",
   "execution_count": 18,
   "id": "2ed90b8b",
   "metadata": {},
   "outputs": [],
   "source": [
    "# обнуляем значения a1 и сn-1 \n",
    "matrix = obnul(matrix, index) "
   ]
  },
  {
   "cell_type": "code",
   "execution_count": 19,
   "id": "5ce89c73",
   "metadata": {
    "scrolled": false
   },
   "outputs": [
    {
     "data": {
      "text/plain": [
       "[[15.75, 0, 15.833333333333334, 15.857142857142858, 15.875],\n",
       " [-33.0, -33.0, -33.0, -33.0, -33.0],\n",
       " [16.25, 16.2, 16.166666666666668, 0, 16.125]]"
      ]
     },
     "execution_count": 19,
     "metadata": {},
     "output_type": "execute_result"
    }
   ],
   "source": [
    "# матрица значений ai, bi, ci после обнуления\n",
    "matrix"
   ]
  },
  {
   "cell_type": "code",
   "execution_count": 20,
   "id": "44d2ddfc",
   "metadata": {
    "scrolled": true
   },
   "outputs": [
    {
     "data": {
      "text/plain": [
       "[0, -5.8124951705087895, 0, -1.092349071838374, 0]"
      ]
     },
     "execution_count": 20,
     "metadata": {},
     "output_type": "execute_result"
    }
   ],
   "source": [
    "# вектор d\n",
    "d"
   ]
  },
  {
   "cell_type": "code",
   "execution_count": 21,
   "id": "04eba1f3",
   "metadata": {
    "scrolled": true
   },
   "outputs": [],
   "source": [
    "A, B = define_vectors_A_B(matrix, d)"
   ]
  },
  {
   "cell_type": "code",
   "execution_count": 22,
   "id": "7e79307d",
   "metadata": {
    "scrolled": false
   },
   "outputs": [
    {
     "data": {
      "text/plain": [
       "([0.49242424242424243,\n",
       "  0.4909090909090909,\n",
       "  0.6408408408408409,\n",
       "  -0.0,\n",
       "  0.48863636363636365],\n",
       " [-0.0,\n",
       "  0.17613621728814513,\n",
       "  0.11054795619586287,\n",
       "  0.12458673878613052,\n",
       "  0.05993377206757037])"
      ]
     },
     "execution_count": 22,
     "metadata": {},
     "output_type": "execute_result"
    }
   ],
   "source": [
    "# погоночные коэффициенты\n",
    "A,B"
   ]
  },
  {
   "cell_type": "code",
   "execution_count": 23,
   "id": "0765a2c2",
   "metadata": {
    "scrolled": false
   },
   "outputs": [
    {
     "data": {
      "text/plain": [
       "[0.36787944117144233,\n",
       " 0.26959952854639957,\n",
       " 0.19038822663718497,\n",
       " 0.12458673878613052,\n",
       " 0.06766764161830635]"
      ]
     },
     "execution_count": 23,
     "metadata": {},
     "output_type": "execute_result"
    }
   ],
   "source": [
    "# вектор корней после прогонки по формуле погоночных коэффициентов от y0 до y4\n",
    "find_y(A, B)"
   ]
  },
  {
   "cell_type": "code",
   "execution_count": 24,
   "id": "01030a71",
   "metadata": {},
   "outputs": [
    {
     "name": "stdout",
     "output_type": "stream",
     "text": [
      "X = 1.0,  y = 0.36787944117144233\n",
      "X = 1.25,  y = 0.22920383748815207\n",
      "X = 1.5,  y = 0.14875344009895322\n",
      "X = 1.75,  y = 0.09929939625739723\n",
      "X = 2.0,  y = 0.06766764161830635\n"
     ]
    },
    {
     "data": {
      "text/plain": [
       "0.06328283336200256"
      ]
     },
     "execution_count": 24,
     "metadata": {},
     "output_type": "execute_result"
    }
   ],
   "source": [
    "# значения точного решения еще раз для сравнения с основной функцией, а также погрешность\n",
    "for i in wh:\n",
    "    print(f'X = {i},  y = {count_y_x_i(i)}')\n",
    "\n",
    "ans = []\n",
    "for i in wh:\n",
    "    ans.append(count_y_x_i(i))\n",
    "\n",
    "y = np.array(find_y(A, B))\n",
    "ans = np.array(ans)\n",
    "(sum((y - ans) ** 2))**0.5"
   ]
  },
  {
   "cell_type": "markdown",
   "id": "4e10e7d8",
   "metadata": {},
   "source": [
    "# Метод пристрелки"
   ]
  },
  {
   "attachments": {
    "image.png": {
     "image/png": "[encoded data removed]"
    }
   },
   "cell_type": "markdown",
   "id": "64bdf8df",
   "metadata": {},
   "source": [
    "![image.png](attachment:image.png)"
   ]
  },
  {
   "cell_type": "code",
   "execution_count": 25,
   "id": "9e2bed59",
   "metadata": {},
   "outputs": [
    {
     "name": "stdout",
     "output_type": "stream",
     "text": [
      "Стартовая точка(а) - 1\n",
      "\n",
      "значение x0 = 1.0\n",
      "значение x1 = 1.25\n",
      "значение x2 = 1.5\n",
      "значение x3 = 1.75\n",
      "значение x4 = 2.0\n"
     ]
    }
   ],
   "source": [
    "start_dot = 1 # начальная точка \n",
    "print(f'Стартовая точка(а) - {start_dot}')\n",
    "print()\n",
    "wh = [start_dot + 0.25 * i for i in range(5)]\n",
    "for i in wh:\n",
    "    print(f'значение x{wh.index(i)} = {i}')"
   ]
  },
  {
   "cell_type": "code",
   "execution_count": 26,
   "id": "377bb357",
   "metadata": {},
   "outputs": [
    {
     "name": "stdout",
     "output_type": "stream",
     "text": [
      "Подбираемое (пристреливаемое) значение производной -0.6323323583816935\n"
     ]
    }
   ],
   "source": [
    "print(f'Подбираемое (пристреливаемое) значение производной {np.exp(-2)/2 - 0.7}')"
   ]
  },
  {
   "cell_type": "code",
   "execution_count": 27,
   "id": "30afe9e8",
   "metadata": {},
   "outputs": [
    {
     "name": "stdout",
     "output_type": "stream",
     "text": [
      "Значение угла в радианах в зависимости от подобранного значения производной -0.5638546552849552\n"
     ]
    }
   ],
   "source": [
    "print(f'Значение угла в радианах в зависимости от подобранного значения производной \\\n",
    "{np.arctan(np.exp(-2)/2 - 0.7)}')"
   ]
  },
  {
   "cell_type": "code",
   "execution_count": 28,
   "id": "d5ffedae",
   "metadata": {},
   "outputs": [],
   "source": [
    "# start_z - начальный z\n",
    "# start_y - первое граничное условие (в точке а)\n",
    "import numpy as np\n",
    "start_z, start_y = np.exp(-2)/2 - 0.7, np.exp(-1)"
   ]
  },
  {
   "cell_type": "code",
   "execution_count": 29,
   "id": "02ea0028",
   "metadata": {},
   "outputs": [],
   "source": [
    "def z_y_find(start_z, start_y, h, X):\n",
    "    ans_z = [start_z]\n",
    "    ans_y = [start_y]\n",
    "    for i in range(len(X) - 1):\n",
    "        zi = ans_z[-1] + (h * (ans_z[-1] / (X[i]) + (X[i] ** 2)))\n",
    "        ans_z.append(zi)\n",
    "    for i in range(len(X) - 1):\n",
    "        yi = ans_y[-1] + h * ans_z[i]\n",
    "        ans_y.append(yi)\n",
    "    \n",
    "    return ans_z, ans_y"
   ]
  },
  {
   "cell_type": "code",
   "execution_count": 30,
   "id": "8b779cdc",
   "metadata": {
    "scrolled": true
   },
   "outputs": [
    {
     "data": {
      "text/plain": [
       "([-0.6323323583816935,\n",
       "  -0.5404154479771169,\n",
       "  -0.25787353757254033,\n",
       "  0.26164753949870295,\n",
       "  1.064650759427089],\n",
       " [0.36787944117144233,\n",
       "  0.20979635157601895,\n",
       "  0.07469248958173971,\n",
       "  0.01022410518860463,\n",
       "  0.07563599006328037])"
      ]
     },
     "execution_count": 30,
     "metadata": {},
     "output_type": "execute_result"
    }
   ],
   "source": [
    "# вектора значений z и y\n",
    "z_y_find(start_z, start_y, 0.25, wh)"
   ]
  },
  {
   "cell_type": "code",
   "execution_count": 31,
   "id": "34ab5804",
   "metadata": {
    "scrolled": true
   },
   "outputs": [
    {
     "name": "stdout",
     "output_type": "stream",
     "text": [
      "X = 1.0,  y = 0.36787944117144233\n",
      "X = 1.25,  y = 0.22920383748815207\n",
      "X = 1.5,  y = 0.14875344009895322\n",
      "X = 1.75,  y = 0.09929939625739723\n",
      "X = 2.0,  y = 0.06766764161830635\n",
      "Погрешность равна 0.11772670451887048\n"
     ]
    }
   ],
   "source": [
    "# значения точного решения\n",
    "for i in wh:\n",
    "    print(f'X = {i},  y = {count_y_x_i(i)}')\n",
    "\n",
    "ans = []\n",
    "for i in wh:\n",
    "    ans.append(count_y_x_i(i))\n",
    "\n",
    "y = np.array(z_y_find(start_z, start_y, 0.25, wh)[-1])\n",
    "ans = np.array(ans)\n",
    "print(f'Погрешность равна {(sum((y - ans) ** 2))**0.5}')"
   ]
  }
 ],
 "metadata": {
  "kernelspec": {
   "display_name": "Python 3 (ipykernel)",
   "language": "python",
   "name": "python3"
  },
  "language_info": {
   "codemirror_mode": {
    "name": "ipython",
    "version": 3
   },
   "file_extension": ".py",
   "mimetype": "text/x-python",
   "name": "python",
   "nbconvert_exporter": "python",
   "pygments_lexer": "ipython3",
   "version": "3.9.7"
  }
 },
 "nbformat": 4,
 "nbformat_minor": 5
}
